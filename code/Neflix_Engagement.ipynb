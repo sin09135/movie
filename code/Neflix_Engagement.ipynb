{
 "cells": [
  {
   "cell_type": "code",
   "execution_count": 1,
   "id": "e142e5b1-4e86-4dce-afe0-fef0a63fb10a",
   "metadata": {
    "tags": []
   },
   "outputs": [],
   "source": [
    "import pandas as pd\n",
    "\n",
    "# 엑셀 파일 경로 지정\n",
    "file_path = \"../data/Engagement_Report_2023Jan-Jun.xlsx\"  # 실제 파일 경로로 변경해주세요.\n",
    "\n",
    "# 엑셀 파일 불러오기\n",
    "df = pd.read_excel(file_path)"
   ]
  },
  {
   "cell_type": "code",
   "execution_count": 2,
   "id": "f4af756a-1900-4cf6-9198-debe69010cf5",
   "metadata": {
    "tags": []
   },
   "outputs": [
    {
     "data": {
      "text/plain": [
       "0                  The Night Agent: Season 1\n",
       "1                  Ginny & Georgia: Season 2\n",
       "2         The Glory: Season 1 // 더 글로리: 시즌 1\n",
       "3                        Wednesday: Season 1\n",
       "4        Queen Charlotte: A Bridgerton Story\n",
       "                        ...                 \n",
       "18209                              راس السنة\n",
       "18210                           心が叫びたがってるんだ。\n",
       "18211                              두근두근 내 인생\n",
       "18212                                 라디오 스타\n",
       "18213                                 선생 김봉두\n",
       "Name: Title, Length: 18214, dtype: object"
      ]
     },
     "execution_count": 2,
     "metadata": {},
     "output_type": "execute_result"
    }
   ],
   "source": [
    "df['Title']"
   ]
  },
  {
   "cell_type": "code",
   "execution_count": 3,
   "id": "ad99255d-432d-48b6-9e1a-5b5ea05b1fb5",
   "metadata": {
    "tags": []
   },
   "outputs": [],
   "source": [
    "df['Title_revised'] = df['Title'].apply(lambda x: x.split(':')[0].split('//')[0])"
   ]
  },
  {
   "cell_type": "code",
   "execution_count": 4,
   "id": "f3689372-4809-4743-a372-f785b954590e",
   "metadata": {
    "tags": []
   },
   "outputs": [],
   "source": [
    "title = df['Title_revised'].tolist()"
   ]
  },
  {
   "cell_type": "code",
   "execution_count": 5,
   "id": "a8a56478-a54d-408b-91db-981143cfb433",
   "metadata": {
    "tags": []
   },
   "outputs": [],
   "source": [
    "import requests\n",
    "\n",
    "def search_movie(query, api_key):\n",
    "    base_url = 'https://api.themoviedb.org/3/search/movie'\n",
    "    params = {\n",
    "        'api_key': api_key,\n",
    "        'query': query\n",
    "    }\n",
    "\n",
    "    response = requests.get(base_url, params=params)\n",
    "    data = response.json()\n",
    "\n",
    "    if 'results' in data and len(data['results']) > 0:\n",
    "        movie_id = data['results'][0]['id']\n",
    "        return movie_id\n",
    "    else:\n",
    "        return None\n",
    "\n",
    "def get_movie_details(movie_id, api_key):\n",
    "    base_url = f'https://api.themoviedb.org/3/movie/{movie_id}'\n",
    "    params = {\n",
    "        'api_key': api_key\n",
    "    }\n",
    "\n",
    "    response = requests.get(base_url, params=params)\n",
    "    movie_details = response.json()\n",
    "\n",
    "    return movie_details\n"
   ]
  },
  {
   "cell_type": "code",
   "execution_count": 6,
   "id": "e503585f-410d-4b7b-8115-7860891fe3c1",
   "metadata": {
    "tags": []
   },
   "outputs": [],
   "source": [
    "import pandas as pd\n",
    "\n",
    "def crawl_movie_details(titles, api_key):\n",
    "    movie_data = []\n",
    "\n",
    "    for title in titles:\n",
    "        movie_id = search_movie(title, api_key)\n",
    "        \n",
    "        if movie_id:\n",
    "            movie_details = get_movie_details(movie_id, api_key)\n",
    "            movie_data.append({\n",
    "                'Title': movie_details['title'],\n",
    "                'Overview': movie_details['overview'],\n",
    "                'Release Date': movie_details['release_date'],\n",
    "                'Popularity': movie_details['popularity'],\n",
    "                'Vote Average': movie_details['vote_average'],\n",
    "                'Vote Count': movie_details['vote_count'],\n",
    "                'Original Title': movie_details['original_title'],\n",
    "                'Original Language': movie_details['original_language'],\n",
    "                'Backdrop Path': movie_details['backdrop_path'],\n",
    "                'Poster Path': movie_details['poster_path']\n",
    "                # Add more details as needed\n",
    "            })\n",
    "\n",
    "    return pd.DataFrame(movie_data)"
   ]
  },
  {
   "cell_type": "code",
   "execution_count": null,
   "id": "5590a0ae-fc4d-4aef-806d-709882c59e17",
   "metadata": {
    "tags": []
   },
   "outputs": [],
   "source": [
    "api_key = '75241e7090c032897a89b229dfa54a48'  \n",
    "titles = title \n",
    "\n",
    "df = crawl_movie_details(titles, api_key)"
   ]
  },
  {
   "cell_type": "code",
   "execution_count": null,
   "id": "93a90cde-22c9-4794-aa73-36ca7f3b6cb7",
   "metadata": {},
   "outputs": [],
   "source": []
  }
 ],
 "metadata": {
  "kernelspec": {
   "display_name": "Python 3 (ipykernel)",
   "language": "python",
   "name": "python3"
  },
  "language_info": {
   "codemirror_mode": {
    "name": "ipython",
    "version": 3
   },
   "file_extension": ".py",
   "mimetype": "text/x-python",
   "name": "python",
   "nbconvert_exporter": "python",
   "pygments_lexer": "ipython3",
   "version": "3.11.4"
  }
 },
 "nbformat": 4,
 "nbformat_minor": 5
}
