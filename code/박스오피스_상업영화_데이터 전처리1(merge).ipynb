{
 "cells": [
  {
   "cell_type": "markdown",
   "id": "cbcb24dc-3a6c-46a5-932f-8de1e0d4f1c4",
   "metadata": {},
   "source": [
    "## 일일 박스오피스 데이터 & 영화정보 merge"
   ]
  },
  {
   "cell_type": "markdown",
   "id": "b431f9bb-7ded-4700-a14d-cf5811bfc19e",
   "metadata": {},
   "source": [
    "- 응답구조\n",
    "    - boxofficeType :문자열\t박스오피스 종류\n",
    "    - showRange : \t문자열\t박스오피스 조회 일자를 출력\n",
    "    - rnum\t문자열\t순번을 출력\n",
    "    - rank\t문자열\t해당일자의 박스오피스 순위를 출력\n",
    "    - rankInten\t문자열\t전일대비 순위의 증감분을 출력\n",
    "    - rankOldAndNew\t문자열\t랭킹에 신규진입여부를 출력\n",
    "    - “OLD” : 기존 , “NEW” : 신규\n",
    "    - movieCd: 문자열\t영화의 대표코드를 출력\n",
    "    - movieNm : 문자열\t영화명(국문)을 출력\n",
    "    - openDt : 문자열\t영화의 개봉일을 출력\n",
    "    - salesAmt : 문자열\t해당일의 매출액을 출력\n",
    "    - salesShare : 문자열\t해당일자 상영작의 매출총액 대비 해당 영화의 매출비율을 출력\n",
    "    - salesInten : 문자열\t전일 대비 매출액 증감분을 출력\n",
    "    - salesChange : 문자열\t전일 대비 매출액 증감 비율을 출력\n",
    "    - salesAcc : 문자열\t누적매출액을 출력\n",
    "    - audiCnt : 문자열\t해당일의 관객수를 출력\n",
    "    - audiInten : 문자열\t전일 대비 관객수 증감분을 출력\n",
    "    - audiChange : 문자열\t전일 대비 관객수 증감 비율을 출력\n",
    "    - audiAcc : 문자열\t누적관객수를 출력합니다.\n",
    "    - scrnCnt : 문자열\t해당일자에 상영한 스크린수를 출력\n",
    "    - showCnt : 문자열\t해당일자에 상영된 횟수를 출력"
   ]
  },
  {
   "cell_type": "code",
   "execution_count": 1,
   "id": "272640c0-9f31-40f0-8820-f6268e61d794",
   "metadata": {
    "tags": []
   },
   "outputs": [],
   "source": [
    "import pandas as pd\n",
    "import numpy as np\n",
    "import time\n",
    "\n",
    "df3 = pd.read_csv('../data/boxoffice_y_24.csv')\n",
    "df2 = pd.read_csv('../data/boxoffice_y_2023.csv')\n",
    "df1 = pd.read_csv('../data/boxoffice_y_1519.csv')"
   ]
  },
  {
   "cell_type": "code",
   "execution_count": 2,
   "id": "0b9a6607-eee0-47ce-be82-a9f82578634b",
   "metadata": {
    "tags": []
   },
   "outputs": [],
   "source": [
    "concat_df = pd.concat([df1, df2, df3], axis = 0)"
   ]
  },
  {
   "cell_type": "code",
   "execution_count": 3,
   "id": "a05a9698-597e-4212-b004-896c8cd1848c",
   "metadata": {
    "tags": []
   },
   "outputs": [],
   "source": [
    "df = concat_df.copy()"
   ]
  },
  {
   "cell_type": "code",
   "execution_count": 4,
   "id": "330cf211-73e8-4975-b1ac-3dd465ed0c83",
   "metadata": {
    "tags": []
   },
   "outputs": [
    {
     "data": {
      "text/plain": [
       "0      2015-01-01\n",
       "1      2015-01-01\n",
       "2      2015-01-01\n",
       "3      2015-01-01\n",
       "4      2015-01-01\n",
       "          ...    \n",
       "905    2024-03-31\n",
       "906    2024-03-31\n",
       "907    2024-03-31\n",
       "908    2024-03-31\n",
       "909    2024-03-31\n",
       "Name: current_date, Length: 33780, dtype: object"
      ]
     },
     "execution_count": 4,
     "metadata": {},
     "output_type": "execute_result"
    }
   ],
   "source": [
    "df['current_date']"
   ]
  },
  {
   "cell_type": "code",
   "execution_count": 21,
   "id": "5a4ce5f8-6ee2-45fd-b546-ddd9f470f88c",
   "metadata": {
    "tags": []
   },
   "outputs": [],
   "source": [
    "df['current_date'] = pd.to_datetime(df['current_date'])\n",
    "movie_codes = df[df['current_date'].dt.year >= 2024]['movieCd'].drop_duplicates().tolist()"
   ]
  },
  {
   "cell_type": "markdown",
   "id": "2b2b6634-498b-4f1a-9560-de4d25fcdf45",
   "metadata": {},
   "source": [
    "### 영화 상세정보 크롤링"
   ]
  },
  {
   "cell_type": "code",
   "execution_count": 6,
   "id": "42cd9e91-ac5f-431b-9a0b-7bf996fde557",
   "metadata": {
    "tags": []
   },
   "outputs": [],
   "source": [
    "# import requests\n",
    "# import pandas as pd\n",
    "\n",
    "# key = 'b713496d3bb846528153ba2985029132'\n",
    "# movieCd = 20182530\n",
    "# url = f'http://www.kobis.or.kr/kobisopenapi/webservice/rest/movie/searchMovieInfo.json?key={key}&movieCd={movieCd}'\n",
    "# response = requests.get(url)\n",
    "# r_data = response.json()"
   ]
  },
  {
   "cell_type": "code",
   "execution_count": 7,
   "id": "76b5b00b-6275-4d88-a1ba-adbe296b931b",
   "metadata": {
    "tags": []
   },
   "outputs": [
    {
     "data": {
      "text/html": [
       "<div>\n",
       "<style scoped>\n",
       "    .dataframe tbody tr th:only-of-type {\n",
       "        vertical-align: middle;\n",
       "    }\n",
       "\n",
       "    .dataframe tbody tr th {\n",
       "        vertical-align: top;\n",
       "    }\n",
       "\n",
       "    .dataframe thead th {\n",
       "        text-align: right;\n",
       "    }\n",
       "</style>\n",
       "<table border=\"1\" class=\"dataframe\">\n",
       "  <thead>\n",
       "    <tr style=\"text-align: right;\">\n",
       "      <th></th>\n",
       "      <th>movieCd</th>\n",
       "      <th>movieNm</th>\n",
       "      <th>showTm</th>\n",
       "      <th>prdtYear</th>\n",
       "      <th>openDt</th>\n",
       "      <th>prdtStatNm</th>\n",
       "      <th>typeNm</th>\n",
       "      <th>nationNm</th>\n",
       "      <th>genreNm</th>\n",
       "      <th>director</th>\n",
       "      <th>actor</th>\n",
       "      <th>showTypeGroupNm</th>\n",
       "      <th>showTypeNm</th>\n",
       "      <th>audits</th>\n",
       "    </tr>\n",
       "  </thead>\n",
       "  <tbody>\n",
       "    <tr>\n",
       "      <th>0</th>\n",
       "      <td>20141111</td>\n",
       "      <td>님아, 그 강을 건너지 마오</td>\n",
       "      <td>85</td>\n",
       "      <td>2014</td>\n",
       "      <td>20141127</td>\n",
       "      <td>개봉</td>\n",
       "      <td>장편</td>\n",
       "      <td>한국</td>\n",
       "      <td>다큐멘터리</td>\n",
       "      <td>진모영</td>\n",
       "      <td>조병만, 강계열</td>\n",
       "      <td>필름, 2D, 2D</td>\n",
       "      <td>필름, 디지털, 디지털 가치봄</td>\n",
       "      <td>전체관람가</td>\n",
       "    </tr>\n",
       "    <tr>\n",
       "      <th>1</th>\n",
       "      <td>20130574</td>\n",
       "      <td>개를 훔치는 완벽한 방법</td>\n",
       "      <td>109</td>\n",
       "      <td>2014</td>\n",
       "      <td>20141231</td>\n",
       "      <td>개봉</td>\n",
       "      <td>장편</td>\n",
       "      <td>한국</td>\n",
       "      <td>드라마</td>\n",
       "      <td>김성호</td>\n",
       "      <td>김혜자, 이레, 최민수, 강혜정, 이천희, 이지원, 홍은택, 김도엽, 김재화, 이기...</td>\n",
       "      <td>필름, 2D, 2D</td>\n",
       "      <td>필름, 디지털, 디지털 가치봄</td>\n",
       "      <td>전체관람가</td>\n",
       "    </tr>\n",
       "  </tbody>\n",
       "</table>\n",
       "</div>"
      ],
      "text/plain": [
       "    movieCd          movieNm showTm prdtYear    openDt prdtStatNm typeNm  \\\n",
       "0  20141111  님아, 그 강을 건너지 마오     85     2014  20141127         개봉     장편   \n",
       "1  20130574    개를 훔치는 완벽한 방법    109     2014  20141231         개봉     장편   \n",
       "\n",
       "  nationNm genreNm director  \\\n",
       "0       한국   다큐멘터리      진모영   \n",
       "1       한국     드라마      김성호   \n",
       "\n",
       "                                               actor showTypeGroupNm  \\\n",
       "0                                           조병만, 강계열      필름, 2D, 2D   \n",
       "1  김혜자, 이레, 최민수, 강혜정, 이천희, 이지원, 홍은택, 김도엽, 김재화, 이기...      필름, 2D, 2D   \n",
       "\n",
       "         showTypeNm audits  \n",
       "0  필름, 디지털, 디지털 가치봄  전체관람가  \n",
       "1  필름, 디지털, 디지털 가치봄  전체관람가  "
      ]
     },
     "execution_count": 7,
     "metadata": {},
     "output_type": "execute_result"
    }
   ],
   "source": [
    "import requests\n",
    "import pandas as pd\n",
    "\n",
    "key = 'b713496d3bb846528153ba2985029132'\n",
    "movie_codes = df['movieCd'].drop_duplicates().tolist()[0:2]\n",
    "\n",
    "info_dfs = []\n",
    "\n",
    "for movieCd in movie_codes:\n",
    "    url = f'http://www.kobis.or.kr/kobisopenapi/webservice/rest/movie/searchMovieInfo.json?key={key}&movieCd={movieCd}'\n",
    "    response = requests.get(url)\n",
    "    r_data = response.json()\n",
    "\n",
    "    # 응답 선택, 값이 없으면 none\n",
    "    selected_data = {\n",
    "        'movieCd': r_data['movieInfoResult']['movieInfo'].get('movieCd', None),\n",
    "        'movieNm': r_data['movieInfoResult']['movieInfo'].get('movieNm', None),\n",
    "        'showTm': r_data['movieInfoResult']['movieInfo'].get('showTm', None),\n",
    "        'prdtYear': r_data['movieInfoResult']['movieInfo'].get('prdtYear', None),\n",
    "        'openDt': r_data['movieInfoResult']['movieInfo'].get('openDt', None),\n",
    "        'prdtStatNm': r_data['movieInfoResult']['movieInfo'].get('prdtStatNm', None),\n",
    "        'typeNm': r_data['movieInfoResult']['movieInfo'].get('typeNm', None),\n",
    "        'nationNm': r_data['movieInfoResult']['movieInfo']['nations'][0].get('nationNm', None),\n",
    "        'genreNm': r_data['movieInfoResult']['movieInfo']['genres'][0].get('genreNm', None) if r_data['movieInfoResult']['movieInfo']['genres'] else None,\n",
    "        'director': r_data['movieInfoResult']['movieInfo']['directors'][0].get('peopleNm', None) if r_data['movieInfoResult']['movieInfo']['directors'] else None,\n",
    "        'actor': ', '.join(actor['peopleNm'] for actor in r_data['movieInfoResult']['movieInfo']['actors']) if r_data['movieInfoResult']['movieInfo']['actors'] else None,\n",
    "        'showTypeGroupNm': ', '.join(stype['showTypeGroupNm'] for stype in r_data['movieInfoResult']['movieInfo'].get('showTypes', [])) if r_data['movieInfoResult']['movieInfo'].get('showTypes') else None,\n",
    "        'showTypeNm': ', '.join(stype['showTypeNm'] for stype in r_data['movieInfoResult']['movieInfo'].get('showTypes', [])) if r_data['movieInfoResult']['movieInfo'].get('showTypes') else None,\n",
    "        'audits': ', '.join(audit['watchGradeNm'] for audit in r_data['movieInfoResult']['movieInfo'].get('audits', [])) if r_data['movieInfoResult']['movieInfo'].get('audits') else None,\n",
    "        \n",
    "    }\n",
    "\n",
    "    info_df = pd.DataFrame([selected_data])\n",
    "    info_dfs.append(info_df)\n",
    "\n",
    "\n",
    "total_info_df = pd.concat(info_dfs, ignore_index=True)\n",
    "total_info_df.head()\n"
   ]
  },
  {
   "cell_type": "code",
   "execution_count": 23,
   "id": "15d25846-5364-4f73-ba1c-7c66ff1a26f9",
   "metadata": {
    "tags": []
   },
   "outputs": [
    {
     "name": "stdout",
     "output_type": "stream",
     "text": [
      "CPU times: user 377 ms, sys: 80.7 ms, total: 458 ms\n",
      "Wall time: 46.8 s\n"
     ]
    },
    {
     "data": {
      "text/html": [
       "<div>\n",
       "<style scoped>\n",
       "    .dataframe tbody tr th:only-of-type {\n",
       "        vertical-align: middle;\n",
       "    }\n",
       "\n",
       "    .dataframe tbody tr th {\n",
       "        vertical-align: top;\n",
       "    }\n",
       "\n",
       "    .dataframe thead th {\n",
       "        text-align: right;\n",
       "    }\n",
       "</style>\n",
       "<table border=\"1\" class=\"dataframe\">\n",
       "  <thead>\n",
       "    <tr style=\"text-align: right;\">\n",
       "      <th></th>\n",
       "      <th>movieCd</th>\n",
       "      <th>movieNm</th>\n",
       "      <th>showTm</th>\n",
       "      <th>prdtYear</th>\n",
       "      <th>openDt</th>\n",
       "      <th>prdtStatNm</th>\n",
       "      <th>typeNm</th>\n",
       "      <th>nationNm</th>\n",
       "      <th>genreNm</th>\n",
       "      <th>director</th>\n",
       "      <th>actor</th>\n",
       "      <th>showTypeGroupNm</th>\n",
       "      <th>showTypeNm</th>\n",
       "      <th>audits</th>\n",
       "    </tr>\n",
       "  </thead>\n",
       "  <tbody>\n",
       "    <tr>\n",
       "      <th>0</th>\n",
       "      <td>20234114</td>\n",
       "      <td>괴물</td>\n",
       "      <td>126</td>\n",
       "      <td>2023</td>\n",
       "      <td>20231129</td>\n",
       "      <td>개봉</td>\n",
       "      <td>장편</td>\n",
       "      <td>일본</td>\n",
       "      <td>드라마</td>\n",
       "      <td>고레에다 히로카즈</td>\n",
       "      <td>안도 사쿠라, 다나카 유코, 나가야마 에이타, 쿠로카와 소야, 히이라기 히나타</td>\n",
       "      <td>2D</td>\n",
       "      <td>디지털</td>\n",
       "      <td>12세이상관람가</td>\n",
       "    </tr>\n",
       "    <tr>\n",
       "      <th>1</th>\n",
       "      <td>20236045</td>\n",
       "      <td>바다 탐험대 옥토넛 어보브 앤 비욘드: 버드, 옥토경보를 울려라!</td>\n",
       "      <td>68</td>\n",
       "      <td>2023</td>\n",
       "      <td>20231227</td>\n",
       "      <td>개봉</td>\n",
       "      <td>장편</td>\n",
       "      <td>영국</td>\n",
       "      <td>애니메이션</td>\n",
       "      <td>None</td>\n",
       "      <td></td>\n",
       "      <td>2D</td>\n",
       "      <td>디지털 더빙</td>\n",
       "      <td>전체관람가</td>\n",
       "    </tr>\n",
       "    <tr>\n",
       "      <th>2</th>\n",
       "      <td>20236080</td>\n",
       "      <td>류이치 사카모토: 오퍼스</td>\n",
       "      <td>103</td>\n",
       "      <td>2023</td>\n",
       "      <td>20231227</td>\n",
       "      <td>개봉</td>\n",
       "      <td>장편</td>\n",
       "      <td>일본</td>\n",
       "      <td>공연</td>\n",
       "      <td>소라 네오</td>\n",
       "      <td>사카모토 류이치</td>\n",
       "      <td>2D</td>\n",
       "      <td>디지털</td>\n",
       "      <td>전체관람가</td>\n",
       "    </tr>\n",
       "    <tr>\n",
       "      <th>3</th>\n",
       "      <td>20233299</td>\n",
       "      <td>크레센도</td>\n",
       "      <td>111</td>\n",
       "      <td>2023</td>\n",
       "      <td>20231220</td>\n",
       "      <td>개봉</td>\n",
       "      <td>장편</td>\n",
       "      <td>미국</td>\n",
       "      <td>다큐멘터리</td>\n",
       "      <td>헤더 윌크</td>\n",
       "      <td></td>\n",
       "      <td>2D</td>\n",
       "      <td>디지털</td>\n",
       "      <td>전체관람가</td>\n",
       "    </tr>\n",
       "    <tr>\n",
       "      <th>4</th>\n",
       "      <td>20235923</td>\n",
       "      <td>사랑은 낙엽을 타고</td>\n",
       "      <td>80</td>\n",
       "      <td>2023</td>\n",
       "      <td>20231220</td>\n",
       "      <td>개봉</td>\n",
       "      <td>장편</td>\n",
       "      <td>핀란드</td>\n",
       "      <td>멜로/로맨스</td>\n",
       "      <td>아키 카우리스마키</td>\n",
       "      <td></td>\n",
       "      <td>2D</td>\n",
       "      <td>디지털</td>\n",
       "      <td>12세이상관람가</td>\n",
       "    </tr>\n",
       "  </tbody>\n",
       "</table>\n",
       "</div>"
      ],
      "text/plain": [
       "    movieCd                               movieNm showTm prdtYear    openDt  \\\n",
       "0  20234114                                    괴물    126     2023  20231129   \n",
       "1  20236045  바다 탐험대 옥토넛 어보브 앤 비욘드: 버드, 옥토경보를 울려라!     68     2023  20231227   \n",
       "2  20236080                         류이치 사카모토: 오퍼스    103     2023  20231227   \n",
       "3  20233299                                  크레센도    111     2023  20231220   \n",
       "4  20235923                            사랑은 낙엽을 타고     80     2023  20231220   \n",
       "\n",
       "  prdtStatNm typeNm nationNm genreNm   director  \\\n",
       "0         개봉     장편       일본     드라마  고레에다 히로카즈   \n",
       "1         개봉     장편       영국   애니메이션       None   \n",
       "2         개봉     장편       일본      공연      소라 네오   \n",
       "3         개봉     장편       미국   다큐멘터리      헤더 윌크   \n",
       "4         개봉     장편      핀란드  멜로/로맨스  아키 카우리스마키   \n",
       "\n",
       "                                         actor showTypeGroupNm showTypeNm  \\\n",
       "0  안도 사쿠라, 다나카 유코, 나가야마 에이타, 쿠로카와 소야, 히이라기 히나타              2D        디지털   \n",
       "1                                                           2D     디지털 더빙   \n",
       "2                                     사카모토 류이치              2D        디지털   \n",
       "3                                                           2D        디지털   \n",
       "4                                                           2D        디지털   \n",
       "\n",
       "     audits  \n",
       "0  12세이상관람가  \n",
       "1     전체관람가  \n",
       "2     전체관람가  \n",
       "3     전체관람가  \n",
       "4  12세이상관람가  "
      ]
     },
     "execution_count": 23,
     "metadata": {},
     "output_type": "execute_result"
    }
   ],
   "source": [
    "%%time\n",
    "import requests\n",
    "\n",
    "key = '75b69dc273dc0e8cef4e9cfb4736799f'\n",
    "movie_codes = df[df['current_date'].dt.year >= 2024]['movieCd'].drop_duplicates().tolist()\n",
    "\n",
    "info_dfs = []\n",
    "\n",
    "for movieCd in movie_codes:\n",
    "    try:\n",
    "        url = f'http://www.kobis.or.kr/kobisopenapi/webservice/rest/movie/searchMovieInfo.json?key={key}&movieCd={movieCd}'\n",
    "        response = requests.get(url)\n",
    "        r_data = response.json()\n",
    "\n",
    "        # 필요한 필드 선택\n",
    "        selected_data = {\n",
    "            'movieCd': r_data['movieInfoResult']['movieInfo'].get('movieCd', None),\n",
    "            'movieNm': r_data['movieInfoResult']['movieInfo'].get('movieNm', None),\n",
    "            'showTm': r_data['movieInfoResult']['movieInfo'].get('showTm', None),\n",
    "            'prdtYear': r_data['movieInfoResult']['movieInfo'].get('prdtYear', None),\n",
    "            'openDt': r_data['movieInfoResult']['movieInfo'].get('openDt', None),\n",
    "            'prdtStatNm': r_data['movieInfoResult']['movieInfo'].get('prdtStatNm', None),\n",
    "            'typeNm': r_data['movieInfoResult']['movieInfo'].get('typeNm', None),\n",
    "            'nationNm': r_data['movieInfoResult']['movieInfo']['nations'][0]['nationNm'] if r_data['movieInfoResult']['movieInfo'].get('nations') else None,\n",
    "            'genreNm': r_data['movieInfoResult']['movieInfo']['genres'][0]['genreNm'] if r_data['movieInfoResult']['movieInfo'].get('genres') else None,\n",
    "            'director': r_data['movieInfoResult']['movieInfo']['directors'][0]['peopleNm'] if r_data['movieInfoResult']['movieInfo'].get('directors') else None,\n",
    "            'actor': ', '.join(actor['peopleNm'] for actor in r_data['movieInfoResult']['movieInfo'].get('actors', [])),\n",
    "            'showTypeGroupNm': ', '.join(stype['showTypeGroupNm'] for stype in r_data['movieInfoResult']['movieInfo'].get('showTypes', [])) if r_data['movieInfoResult']['movieInfo'].get('showTypes') else None,\n",
    "            'showTypeNm': ', '.join(stype['showTypeNm'] for stype in r_data['movieInfoResult']['movieInfo'].get('showTypes', [])) if r_data['movieInfoResult']['movieInfo'].get('showTypes') else None,\n",
    "            'audits': ', '.join(audit['watchGradeNm'] for audit in r_data['movieInfoResult']['movieInfo'].get('audits', [])) if r_data['movieInfoResult']['movieInfo'].get('audits') else None\n",
    "        }\n",
    "\n",
    "        info_df = pd.DataFrame([selected_data])\n",
    "        info_dfs.append(info_df)\n",
    "    except Exception as e:\n",
    "        print(f\"Error occurred while processing movie code {movieCd}: {e}\")\n",
    "\n",
    "total_info_df = pd.concat(info_dfs, ignore_index=True)\n",
    "total_info_df.head()\n"
   ]
  },
  {
   "cell_type": "code",
   "execution_count": 24,
   "id": "79557400-1dd6-4b32-8727-e30f6aa7d5c0",
   "metadata": {
    "tags": []
   },
   "outputs": [],
   "source": [
    "total_info_df.to_csv('../data/boxoffice_info_y_24.csv',index = False, encoding = 'utf-8-sig')"
   ]
  },
  {
   "cell_type": "code",
   "execution_count": 25,
   "id": "3098152c-3318-4dd2-92f0-31061536118f",
   "metadata": {
    "tags": []
   },
   "outputs": [],
   "source": [
    "total_info_df = pd.read_csv('../data/boxoffice_info_15_23.csv')\n",
    "total_info_y_df = pd.read_csv('../data/boxoffice_info_y_24.csv')"
   ]
  },
  {
   "cell_type": "code",
   "execution_count": 28,
   "id": "84b0434b-2f7a-4694-811a-cb660a235afe",
   "metadata": {
    "tags": []
   },
   "outputs": [],
   "source": [
    "total_info_df = pd.concat([total_info_df, total_info_y_df], axis=0)"
   ]
  },
  {
   "cell_type": "code",
   "execution_count": 29,
   "id": "fa093a0d-2cc3-4542-94b9-d93e95b9abdf",
   "metadata": {
    "tags": []
   },
   "outputs": [],
   "source": [
    "total_info_df.drop_duplicates(inplace = True)"
   ]
  },
  {
   "cell_type": "code",
   "execution_count": 30,
   "id": "8caebc89-56cd-4428-8c2e-270cded53156",
   "metadata": {
    "tags": []
   },
   "outputs": [],
   "source": [
    "total = pd.merge(df,total_info_df, on= ['movieCd','movieNm'], how = 'left')"
   ]
  },
  {
   "cell_type": "code",
   "execution_count": 31,
   "id": "0114be23-0cdf-49f7-bc60-d4dee81e80de",
   "metadata": {
    "tags": []
   },
   "outputs": [
    {
     "name": "stdout",
     "output_type": "stream",
     "text": [
      "<class 'pandas.core.frame.DataFrame'>\n",
      "Int64Index: 33780 entries, 0 to 33779\n",
      "Data columns (total 31 columns):\n",
      " #   Column           Non-Null Count  Dtype         \n",
      "---  ------           --------------  -----         \n",
      " 0   rnum             33780 non-null  int64         \n",
      " 1   rank             33780 non-null  int64         \n",
      " 2   rankInten        33780 non-null  int64         \n",
      " 3   rankOldAndNew    33780 non-null  object        \n",
      " 4   movieCd          33780 non-null  object        \n",
      " 5   movieNm          33780 non-null  object        \n",
      " 6   openDt_x         33780 non-null  object        \n",
      " 7   salesAmt         33780 non-null  int64         \n",
      " 8   salesShare       33780 non-null  float64       \n",
      " 9   salesInten       33780 non-null  int64         \n",
      " 10  salesChange      33780 non-null  float64       \n",
      " 11  salesAcc         33780 non-null  int64         \n",
      " 12  audiCnt          33780 non-null  int64         \n",
      " 13  audiInten        33780 non-null  int64         \n",
      " 14  audiChange       33780 non-null  float64       \n",
      " 15  audiAcc          33780 non-null  int64         \n",
      " 16  scrnCnt          33780 non-null  int64         \n",
      " 17  showCnt          33780 non-null  int64         \n",
      " 18  current_date     33780 non-null  datetime64[ns]\n",
      " 19  showTm           20672 non-null  float64       \n",
      " 20  prdtYear         20672 non-null  float64       \n",
      " 21  openDt_y         20650 non-null  float64       \n",
      " 22  prdtStatNm       20672 non-null  object        \n",
      " 23  typeNm           20670 non-null  object        \n",
      " 24  nationNm         20672 non-null  object        \n",
      " 25  genreNm          20661 non-null  object        \n",
      " 26  director         20049 non-null  object        \n",
      " 27  actor            18843 non-null  object        \n",
      " 28  showTypeGroupNm  20672 non-null  object        \n",
      " 29  showTypeNm       20672 non-null  object        \n",
      " 30  audits           20650 non-null  object        \n",
      "dtypes: datetime64[ns](1), float64(6), int64(11), object(13)\n",
      "memory usage: 8.2+ MB\n"
     ]
    }
   ],
   "source": [
    "total.info()"
   ]
  },
  {
   "cell_type": "code",
   "execution_count": 32,
   "id": "51cd45e8-b959-405e-8bab-2a53cc72e82f",
   "metadata": {
    "tags": []
   },
   "outputs": [
    {
     "data": {
      "text/html": [
       "<div>\n",
       "<style scoped>\n",
       "    .dataframe tbody tr th:only-of-type {\n",
       "        vertical-align: middle;\n",
       "    }\n",
       "\n",
       "    .dataframe tbody tr th {\n",
       "        vertical-align: top;\n",
       "    }\n",
       "\n",
       "    .dataframe thead th {\n",
       "        text-align: right;\n",
       "    }\n",
       "</style>\n",
       "<table border=\"1\" class=\"dataframe\">\n",
       "  <thead>\n",
       "    <tr style=\"text-align: right;\">\n",
       "      <th></th>\n",
       "      <th>openDt_x</th>\n",
       "      <th>openDt_y</th>\n",
       "    </tr>\n",
       "  </thead>\n",
       "  <tbody>\n",
       "    <tr>\n",
       "      <th>0</th>\n",
       "      <td>2014-11-27</td>\n",
       "      <td>20141127.0</td>\n",
       "    </tr>\n",
       "    <tr>\n",
       "      <th>1</th>\n",
       "      <td>2014-12-31</td>\n",
       "      <td>20141231.0</td>\n",
       "    </tr>\n",
       "    <tr>\n",
       "      <th>2</th>\n",
       "      <td>2014-12-24</td>\n",
       "      <td>20141224.0</td>\n",
       "    </tr>\n",
       "    <tr>\n",
       "      <th>3</th>\n",
       "      <td>2014-12-31</td>\n",
       "      <td>NaN</td>\n",
       "    </tr>\n",
       "    <tr>\n",
       "      <th>4</th>\n",
       "      <td>2015-01-01</td>\n",
       "      <td>NaN</td>\n",
       "    </tr>\n",
       "    <tr>\n",
       "      <th>...</th>\n",
       "      <td>...</td>\n",
       "      <td>...</td>\n",
       "    </tr>\n",
       "    <tr>\n",
       "      <th>33775</th>\n",
       "      <td>2017-07-13</td>\n",
       "      <td>20170713.0</td>\n",
       "    </tr>\n",
       "    <tr>\n",
       "      <th>33776</th>\n",
       "      <td>2024-03-13</td>\n",
       "      <td>20240313.0</td>\n",
       "    </tr>\n",
       "    <tr>\n",
       "      <th>33777</th>\n",
       "      <td>1987-05-23</td>\n",
       "      <td>19870523.0</td>\n",
       "    </tr>\n",
       "    <tr>\n",
       "      <th>33778</th>\n",
       "      <td>2024-03-21</td>\n",
       "      <td>20240321.0</td>\n",
       "    </tr>\n",
       "    <tr>\n",
       "      <th>33779</th>\n",
       "      <td>2024-02-07</td>\n",
       "      <td>20240207.0</td>\n",
       "    </tr>\n",
       "  </tbody>\n",
       "</table>\n",
       "<p>33780 rows × 2 columns</p>\n",
       "</div>"
      ],
      "text/plain": [
       "         openDt_x    openDt_y\n",
       "0      2014-11-27  20141127.0\n",
       "1      2014-12-31  20141231.0\n",
       "2      2014-12-24  20141224.0\n",
       "3      2014-12-31         NaN\n",
       "4      2015-01-01         NaN\n",
       "...           ...         ...\n",
       "33775  2017-07-13  20170713.0\n",
       "33776  2024-03-13  20240313.0\n",
       "33777  1987-05-23  19870523.0\n",
       "33778  2024-03-21  20240321.0\n",
       "33779  2024-02-07  20240207.0\n",
       "\n",
       "[33780 rows x 2 columns]"
      ]
     },
     "execution_count": 32,
     "metadata": {},
     "output_type": "execute_result"
    }
   ],
   "source": [
    "total[['openDt_x','openDt_y']] # 년도별 형식이 다름"
   ]
  },
  {
   "cell_type": "code",
   "execution_count": 33,
   "id": "43742f4f-c562-4261-8e2e-9713fee70c7b",
   "metadata": {
    "tags": []
   },
   "outputs": [],
   "source": [
    "# 날짜 형식으로 변환\n",
    "total['openDt_y'] = pd.to_datetime(total['openDt_y'], format='%Y%m%d')"
   ]
  },
  {
   "cell_type": "code",
   "execution_count": 34,
   "id": "9bdc959f-f450-4182-aab6-8e96e1b3d3cb",
   "metadata": {
    "tags": []
   },
   "outputs": [],
   "source": [
    "total['openDt_x'].fillna(total['openDt_y'], inplace=True)"
   ]
  },
  {
   "cell_type": "code",
   "execution_count": 35,
   "id": "e56f1d98-8ec6-4d42-8b67-7092467b535c",
   "metadata": {
    "tags": []
   },
   "outputs": [],
   "source": [
    "total.drop(columns = 'openDt_y', inplace = True)\n",
    "total.rename(columns = {'openDt_x' : 'openDt'}, inplace = True)"
   ]
  },
  {
   "cell_type": "code",
   "execution_count": 36,
   "id": "f7274851-c4e6-4fd5-a904-65937e7c25d5",
   "metadata": {
    "tags": []
   },
   "outputs": [
    {
     "data": {
      "text/plain": [
       "0        2014-11-27\n",
       "1        2014-12-31\n",
       "2        2014-12-24\n",
       "3        2014-12-31\n",
       "4        2015-01-01\n",
       "            ...    \n",
       "33775    2017-07-13\n",
       "33776    2024-03-13\n",
       "33777    1987-05-23\n",
       "33778    2024-03-21\n",
       "33779    2024-02-07\n",
       "Name: openDt, Length: 33780, dtype: object"
      ]
     },
     "execution_count": 36,
     "metadata": {},
     "output_type": "execute_result"
    }
   ],
   "source": [
    "total.openDt"
   ]
  },
  {
   "cell_type": "code",
   "execution_count": 37,
   "id": "1ac96a62-c6cf-4161-850c-ea1d669a4f28",
   "metadata": {
    "tags": []
   },
   "outputs": [
    {
     "name": "stdout",
     "output_type": "stream",
     "text": [
      "<class 'pandas.core.frame.DataFrame'>\n",
      "Int64Index: 33780 entries, 0 to 33779\n",
      "Data columns (total 30 columns):\n",
      " #   Column           Non-Null Count  Dtype         \n",
      "---  ------           --------------  -----         \n",
      " 0   rnum             33780 non-null  int64         \n",
      " 1   rank             33780 non-null  int64         \n",
      " 2   rankInten        33780 non-null  int64         \n",
      " 3   rankOldAndNew    33780 non-null  object        \n",
      " 4   movieCd          33780 non-null  object        \n",
      " 5   movieNm          33780 non-null  object        \n",
      " 6   openDt           33780 non-null  object        \n",
      " 7   salesAmt         33780 non-null  int64         \n",
      " 8   salesShare       33780 non-null  float64       \n",
      " 9   salesInten       33780 non-null  int64         \n",
      " 10  salesChange      33780 non-null  float64       \n",
      " 11  salesAcc         33780 non-null  int64         \n",
      " 12  audiCnt          33780 non-null  int64         \n",
      " 13  audiInten        33780 non-null  int64         \n",
      " 14  audiChange       33780 non-null  float64       \n",
      " 15  audiAcc          33780 non-null  int64         \n",
      " 16  scrnCnt          33780 non-null  int64         \n",
      " 17  showCnt          33780 non-null  int64         \n",
      " 18  current_date     33780 non-null  datetime64[ns]\n",
      " 19  showTm           20672 non-null  float64       \n",
      " 20  prdtYear         20672 non-null  float64       \n",
      " 21  prdtStatNm       20672 non-null  object        \n",
      " 22  typeNm           20670 non-null  object        \n",
      " 23  nationNm         20672 non-null  object        \n",
      " 24  genreNm          20661 non-null  object        \n",
      " 25  director         20049 non-null  object        \n",
      " 26  actor            18843 non-null  object        \n",
      " 27  showTypeGroupNm  20672 non-null  object        \n",
      " 28  showTypeNm       20672 non-null  object        \n",
      " 29  audits           20650 non-null  object        \n",
      "dtypes: datetime64[ns](1), float64(5), int64(11), object(13)\n",
      "memory usage: 8.0+ MB\n"
     ]
    }
   ],
   "source": [
    "total.info()"
   ]
  },
  {
   "cell_type": "code",
   "execution_count": 38,
   "id": "5317368e-ee66-44da-9727-f5940a07eeeb",
   "metadata": {
    "tags": []
   },
   "outputs": [
    {
     "data": {
      "text/plain": [
       "0       2015-01-01\n",
       "1       2015-01-01\n",
       "2       2015-01-01\n",
       "3       2015-01-01\n",
       "4       2015-01-01\n",
       "           ...    \n",
       "33775   2024-03-31\n",
       "33776   2024-03-31\n",
       "33777   2024-03-31\n",
       "33778   2024-03-31\n",
       "33779   2024-03-31\n",
       "Name: current_date, Length: 33780, dtype: datetime64[ns]"
      ]
     },
     "execution_count": 38,
     "metadata": {},
     "output_type": "execute_result"
    }
   ],
   "source": [
    "total.current_date"
   ]
  },
  {
   "cell_type": "code",
   "execution_count": 39,
   "id": "48cb9ad9-c656-49e9-a2cf-8521b245871c",
   "metadata": {
    "tags": []
   },
   "outputs": [],
   "source": [
    "total.to_csv('../data/boxoffice_y_15_24_total.csv',index = False, encoding = 'utf-8-sig')"
   ]
  },
  {
   "cell_type": "code",
   "execution_count": null,
   "id": "f3bf470d-95a9-4a42-993a-625a1aa83db6",
   "metadata": {},
   "outputs": [],
   "source": []
  }
 ],
 "metadata": {
  "kernelspec": {
   "display_name": "Python 3 (ipykernel)",
   "language": "python",
   "name": "python3"
  },
  "language_info": {
   "codemirror_mode": {
    "name": "ipython",
    "version": 3
   },
   "file_extension": ".py",
   "mimetype": "text/x-python",
   "name": "python",
   "nbconvert_exporter": "python",
   "pygments_lexer": "ipython3",
   "version": "3.11.4"
  }
 },
 "nbformat": 4,
 "nbformat_minor": 5
}
