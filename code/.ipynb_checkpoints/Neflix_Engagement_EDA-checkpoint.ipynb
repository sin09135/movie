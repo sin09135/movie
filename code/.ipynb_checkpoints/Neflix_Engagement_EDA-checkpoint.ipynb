{
 "cells": [
  {
   "cell_type": "markdown",
   "id": "2d0c26c9-6723-4617-a30d-3851eae999f2",
   "metadata": {},
   "source": [
    "# Netflix_Engagement_Report(2023Jan-Jun)"
   ]
  },
  {
   "cell_type": "code",
   "execution_count": 1,
   "id": "e142e5b1-4e86-4dce-afe0-fef0a63fb10a",
   "metadata": {
    "tags": []
   },
   "outputs": [],
   "source": [
    "import pandas as pd\n",
    "import requests\n",
    "\n",
    "# 엑셀 파일 경로 지정\n",
    "file_path = \"../data/Engagement_Report_2023Jan-Jun.xlsx\"  \n",
    "\n",
    "# 엑셀 파일 불러오기\n",
    "df = pd.read_excel(file_path)"
   ]
  },
  {
   "cell_type": "code",
   "execution_count": 2,
   "id": "f4af756a-1900-4cf6-9198-debe69010cf5",
   "metadata": {
    "tags": []
   },
   "outputs": [
    {
     "name": "stdout",
     "output_type": "stream",
     "text": [
      "<class 'pandas.core.frame.DataFrame'>\n",
      "RangeIndex: 18214 entries, 0 to 18213\n",
      "Data columns (total 4 columns):\n",
      " #   Column               Non-Null Count  Dtype         \n",
      "---  ------               --------------  -----         \n",
      " 0   Title                18214 non-null  object        \n",
      " 1   Available Globally?  18214 non-null  object        \n",
      " 2   Release Date         4855 non-null   datetime64[ns]\n",
      " 3   Hours Viewed         18214 non-null  int64         \n",
      "dtypes: datetime64[ns](1), int64(1), object(2)\n",
      "memory usage: 569.3+ KB\n"
     ]
    }
   ],
   "source": [
    "df.info()"
   ]
  },
  {
   "cell_type": "code",
   "execution_count": 3,
   "id": "97576931-103a-4ae9-ac01-930c53ce185b",
   "metadata": {
    "tags": []
   },
   "outputs": [],
   "source": [
    "df = df[df['Available Globally?'] == 'Yes']"
   ]
  },
  {
   "cell_type": "code",
   "execution_count": 4,
   "id": "4735874f-8243-473d-a4cc-792bec73ee35",
   "metadata": {
    "tags": []
   },
   "outputs": [],
   "source": [
    "df_sorted_descending = df.sort_values(by='Hours Viewed', ascending=False)\n",
    "df = df_sorted_descending.copy()"
   ]
  },
  {
   "cell_type": "code",
   "execution_count": 5,
   "id": "511a9948-883a-4bae-94c1-3bbab5f3fe6e",
   "metadata": {
    "tags": []
   },
   "outputs": [],
   "source": [
    "df.drop(columns = 'Available Globally?', inplace = True)"
   ]
  },
  {
   "cell_type": "code",
   "execution_count": 6,
   "id": "b4b3682a-423c-48e9-a2bd-2c2fc7793f33",
   "metadata": {
    "tags": []
   },
   "outputs": [
    {
     "data": {
      "text/html": [
       "<div>\n",
       "<style scoped>\n",
       "    .dataframe tbody tr th:only-of-type {\n",
       "        vertical-align: middle;\n",
       "    }\n",
       "\n",
       "    .dataframe tbody tr th {\n",
       "        vertical-align: top;\n",
       "    }\n",
       "\n",
       "    .dataframe thead th {\n",
       "        text-align: right;\n",
       "    }\n",
       "</style>\n",
       "<table border=\"1\" class=\"dataframe\">\n",
       "  <thead>\n",
       "    <tr style=\"text-align: right;\">\n",
       "      <th></th>\n",
       "      <th>Title</th>\n",
       "      <th>Release Date</th>\n",
       "      <th>Hours Viewed</th>\n",
       "    </tr>\n",
       "  </thead>\n",
       "  <tbody>\n",
       "    <tr>\n",
       "      <th>0</th>\n",
       "      <td>The Night Agent: Season 1</td>\n",
       "      <td>2023-03-23</td>\n",
       "      <td>812100000</td>\n",
       "    </tr>\n",
       "    <tr>\n",
       "      <th>1</th>\n",
       "      <td>Ginny &amp; Georgia: Season 2</td>\n",
       "      <td>2023-01-05</td>\n",
       "      <td>665100000</td>\n",
       "    </tr>\n",
       "    <tr>\n",
       "      <th>2</th>\n",
       "      <td>The Glory: Season 1 // 더 글로리: 시즌 1</td>\n",
       "      <td>2022-12-30</td>\n",
       "      <td>622800000</td>\n",
       "    </tr>\n",
       "    <tr>\n",
       "      <th>3</th>\n",
       "      <td>Wednesday: Season 1</td>\n",
       "      <td>2022-11-23</td>\n",
       "      <td>507700000</td>\n",
       "    </tr>\n",
       "    <tr>\n",
       "      <th>4</th>\n",
       "      <td>Queen Charlotte: A Bridgerton Story</td>\n",
       "      <td>2023-05-04</td>\n",
       "      <td>503000000</td>\n",
       "    </tr>\n",
       "    <tr>\n",
       "      <th>...</th>\n",
       "      <td>...</td>\n",
       "      <td>...</td>\n",
       "      <td>...</td>\n",
       "    </tr>\n",
       "    <tr>\n",
       "      <th>15535</th>\n",
       "      <td>Ghosts of Sugar Land</td>\n",
       "      <td>2019-10-16</td>\n",
       "      <td>100000</td>\n",
       "    </tr>\n",
       "    <tr>\n",
       "      <th>15489</th>\n",
       "      <td>Frontliner</td>\n",
       "      <td>NaT</td>\n",
       "      <td>100000</td>\n",
       "    </tr>\n",
       "    <tr>\n",
       "      <th>15475</th>\n",
       "      <td>Fred Armisen: Standup For Drummers</td>\n",
       "      <td>2018-02-06</td>\n",
       "      <td>100000</td>\n",
       "    </tr>\n",
       "    <tr>\n",
       "      <th>15472</th>\n",
       "      <td>Frank and Cindy</td>\n",
       "      <td>NaT</td>\n",
       "      <td>100000</td>\n",
       "    </tr>\n",
       "    <tr>\n",
       "      <th>18177</th>\n",
       "      <td>Zion</td>\n",
       "      <td>2018-08-10</td>\n",
       "      <td>100000</td>\n",
       "    </tr>\n",
       "  </tbody>\n",
       "</table>\n",
       "<p>4514 rows × 3 columns</p>\n",
       "</div>"
      ],
      "text/plain": [
       "                                     Title Release Date  Hours Viewed\n",
       "0                The Night Agent: Season 1   2023-03-23     812100000\n",
       "1                Ginny & Georgia: Season 2   2023-01-05     665100000\n",
       "2       The Glory: Season 1 // 더 글로리: 시즌 1   2022-12-30     622800000\n",
       "3                      Wednesday: Season 1   2022-11-23     507700000\n",
       "4      Queen Charlotte: A Bridgerton Story   2023-05-04     503000000\n",
       "...                                    ...          ...           ...\n",
       "15535                 Ghosts of Sugar Land   2019-10-16        100000\n",
       "15489                           Frontliner          NaT        100000\n",
       "15475   Fred Armisen: Standup For Drummers   2018-02-06        100000\n",
       "15472                      Frank and Cindy          NaT        100000\n",
       "18177                                 Zion   2018-08-10        100000\n",
       "\n",
       "[4514 rows x 3 columns]"
      ]
     },
     "execution_count": 6,
     "metadata": {},
     "output_type": "execute_result"
    }
   ],
   "source": [
    "df"
   ]
  },
  {
   "cell_type": "code",
   "execution_count": 7,
   "id": "ff009d64-374b-4d7c-b4a0-71eab7a30f69",
   "metadata": {
    "tags": []
   },
   "outputs": [],
   "source": [
    "df['Title'] = df['Title'].apply(lambda x: x.split('//')[0])"
   ]
  },
  {
   "cell_type": "code",
   "execution_count": 8,
   "id": "84e5fa6b-3617-40fe-b0e0-e5808b657148",
   "metadata": {
    "tags": []
   },
   "outputs": [],
   "source": [
    "def extract_season(title):\n",
    "    # \":\"를 기준으로 문자열 분리\n",
    "    split_title = title.split(':')\n",
    "    if len(split_title) > 1:\n",
    "        # 분리된 문자열이 \"Season\"인지 확인하여 \"Season\" 열에 저장\n",
    "        if \"Season\" in split_title[1]:\n",
    "            return split_title[1].strip()  # 좌우 공백 제거\n",
    "    return None  # 해당하지 않는 경우 None 반환"
   ]
  },
  {
   "cell_type": "code",
   "execution_count": 9,
   "id": "ca406ca1-0454-4fe2-ac5f-bcbf4cd57460",
   "metadata": {
    "tags": []
   },
   "outputs": [],
   "source": [
    "df['Season'] = df['Title'].apply(extract_season)"
   ]
  },
  {
   "cell_type": "code",
   "execution_count": 10,
   "id": "ee86c5e9-794c-4e5b-9d93-a7c9a5771fd0",
   "metadata": {
    "tags": []
   },
   "outputs": [],
   "source": [
    "df['Title_revised'] = df['Title'].apply(lambda x: x.split('//')[0].split(':')[0])"
   ]
  },
  {
   "cell_type": "code",
   "execution_count": 11,
   "id": "49090c8d-41bc-4f7e-bf5f-6d1099435a08",
   "metadata": {
    "tags": []
   },
   "outputs": [
    {
     "data": {
      "text/html": [
       "<div>\n",
       "<style scoped>\n",
       "    .dataframe tbody tr th:only-of-type {\n",
       "        vertical-align: middle;\n",
       "    }\n",
       "\n",
       "    .dataframe tbody tr th {\n",
       "        vertical-align: top;\n",
       "    }\n",
       "\n",
       "    .dataframe thead th {\n",
       "        text-align: right;\n",
       "    }\n",
       "</style>\n",
       "<table border=\"1\" class=\"dataframe\">\n",
       "  <thead>\n",
       "    <tr style=\"text-align: right;\">\n",
       "      <th></th>\n",
       "      <th>Title</th>\n",
       "      <th>Release Date</th>\n",
       "      <th>Hours Viewed</th>\n",
       "      <th>Season</th>\n",
       "      <th>Title_revised</th>\n",
       "    </tr>\n",
       "  </thead>\n",
       "  <tbody>\n",
       "    <tr>\n",
       "      <th>0</th>\n",
       "      <td>The Night Agent: Season 1</td>\n",
       "      <td>2023-03-23</td>\n",
       "      <td>812100000</td>\n",
       "      <td>Season 1</td>\n",
       "      <td>The Night Agent</td>\n",
       "    </tr>\n",
       "    <tr>\n",
       "      <th>1</th>\n",
       "      <td>Ginny &amp; Georgia: Season 2</td>\n",
       "      <td>2023-01-05</td>\n",
       "      <td>665100000</td>\n",
       "      <td>Season 2</td>\n",
       "      <td>Ginny &amp; Georgia</td>\n",
       "    </tr>\n",
       "    <tr>\n",
       "      <th>2</th>\n",
       "      <td>The Glory: Season 1</td>\n",
       "      <td>2022-12-30</td>\n",
       "      <td>622800000</td>\n",
       "      <td>Season 1</td>\n",
       "      <td>The Glory</td>\n",
       "    </tr>\n",
       "    <tr>\n",
       "      <th>3</th>\n",
       "      <td>Wednesday: Season 1</td>\n",
       "      <td>2022-11-23</td>\n",
       "      <td>507700000</td>\n",
       "      <td>Season 1</td>\n",
       "      <td>Wednesday</td>\n",
       "    </tr>\n",
       "    <tr>\n",
       "      <th>4</th>\n",
       "      <td>Queen Charlotte: A Bridgerton Story</td>\n",
       "      <td>2023-05-04</td>\n",
       "      <td>503000000</td>\n",
       "      <td>None</td>\n",
       "      <td>Queen Charlotte</td>\n",
       "    </tr>\n",
       "  </tbody>\n",
       "</table>\n",
       "</div>"
      ],
      "text/plain": [
       "                                 Title Release Date  Hours Viewed    Season  \\\n",
       "0            The Night Agent: Season 1   2023-03-23     812100000  Season 1   \n",
       "1            Ginny & Georgia: Season 2   2023-01-05     665100000  Season 2   \n",
       "2                 The Glory: Season 1    2022-12-30     622800000  Season 1   \n",
       "3                  Wednesday: Season 1   2022-11-23     507700000  Season 1   \n",
       "4  Queen Charlotte: A Bridgerton Story   2023-05-04     503000000      None   \n",
       "\n",
       "     Title_revised  \n",
       "0  The Night Agent  \n",
       "1  Ginny & Georgia  \n",
       "2        The Glory  \n",
       "3        Wednesday  \n",
       "4  Queen Charlotte  "
      ]
     },
     "execution_count": 11,
     "metadata": {},
     "output_type": "execute_result"
    }
   ],
   "source": [
    "df.head()"
   ]
  },
  {
   "cell_type": "markdown",
   "id": "aa8b7349-f18f-4ccb-87c4-f3976b135ea1",
   "metadata": {},
   "source": [
    "## Distribution"
   ]
  },
  {
   "cell_type": "code",
   "execution_count": 12,
   "id": "7906f10e-e2b9-4097-a3b3-f888cfe94136",
   "metadata": {
    "tags": []
   },
   "outputs": [],
   "source": [
    "import seaborn as sns\n",
    "import matplotlib.pyplot as plt\n",
    "\n",
    "def plot_distribution(data, column, title, color = 'skyblue'):\n",
    "    \"\"\"\n",
    "    데이터프레임에서 특정 열의 분포를 시각화하는 함수\n",
    "    \n",
    "    :param data: 데이터프레임\n",
    "    :param column: 시각화할 열의 이름\n",
    "    :param title: 시각화 제목\n",
    "    \"\"\"\n",
    "    plt.figure(figsize=(10, 6))\n",
    "    sns.histplot(data[column].dropna(), bins=30, color=color, kde=False)\n",
    "    plt.title(title)\n",
    "    plt.xlabel(column)\n",
    "    plt.ylabel('Frequency')\n",
    "    plt.grid(True)\n",
    "    plt.xticks(rotation=45)\n",
    "    plt.show()\n"
   ]
  },
  {
   "cell_type": "code",
   "execution_count": 13,
   "id": "6190511c-4374-4dcb-9ede-bff940cc13d8",
   "metadata": {
    "tags": []
   },
   "outputs": [
    {
     "data": {
      "image/png": "[encoded data removed]",
      "text/plain": [
       "<Figure size 1000x600 with 1 Axes>"
      ]
     },
     "metadata": {},
     "output_type": "display_data"
    },
    {
     "data": {
      "image/png": "[encoded data removed]",
      "text/plain": [
       "<Figure size 1000x600 with 1 Axes>"
      ]
     },
     "metadata": {},
     "output_type": "display_data"
    }
   ],
   "source": [
    "plot_distribution(df, 'Release Date', 'Distribution of Release Dates')\n",
    "plot_distribution(df, 'Hours Viewed', 'Distribution of Viewing Hours')"
   ]
  },
  {
   "cell_type": "markdown",
   "id": "7f76a139-e3e3-45f3-866e-91371caf7c9e",
   "metadata": {},
   "source": [
    "### released된 연도/분기 별 hoursviewed 순위"
   ]
  },
  {
   "cell_type": "code",
   "execution_count": 14,
   "id": "9ddc880f-aa24-4e87-8649-1c8574da3894",
   "metadata": {
    "tags": []
   },
   "outputs": [],
   "source": [
    "def rank_hours_viewed_by_year_quarter(data):\n",
    "    # \"Release Date\" 열에서 연도 및 분기 정보를 추출\n",
    "    data['Year'] = data['Release Date'].dt.year\n",
    "    data['Quarter'] = data['Release Date'].dt.quarter\n",
    "    \n",
    "    # 연도/분기 별로 같은 컨텐츠들 중 \"Hours Viewed\"에 따른 순위 계산\n",
    "    ranked_data = data.groupby(['Year', 'Quarter', 'Title','Title_revised','Season'])['Hours Viewed'].sum().reset_index()\n",
    "    ranked_data['Rank'] = ranked_data.groupby(['Year', 'Quarter'])['Hours Viewed'].rank(ascending=False, method='dense')\n",
    "    \n",
    "    return ranked_data\n"
   ]
  },
  {
   "cell_type": "code",
   "execution_count": 15,
   "id": "63169338-52c8-40b1-bf24-bc6d407228b4",
   "metadata": {
    "tags": []
   },
   "outputs": [],
   "source": [
    "# 데이터프레임에서 연도/분기별로 같은 컨텐츠들 중 \"Hours Viewed\"에 따른 순위 계산\n",
    "ranked_data = rank_hours_viewed_by_year_quarter(df)"
   ]
  },
  {
   "cell_type": "code",
   "execution_count": 16,
   "id": "6fbcfbdc-d2a9-4ba0-a80a-54fcc1257f33",
   "metadata": {
    "tags": []
   },
   "outputs": [],
   "source": [
    "# Rank가 1에서 5까지인 데이터 필터링\n",
    "top_ranked_data = ranked_data[ranked_data['Rank'].between(1, 5)]"
   ]
  },
  {
   "cell_type": "code",
   "execution_count": 17,
   "id": "79a0c819-bfdf-4d58-8bc0-c29becaab65a",
   "metadata": {
    "tags": []
   },
   "outputs": [
    {
     "data": {
      "text/html": [
       "<div>\n",
       "<style scoped>\n",
       "    .dataframe tbody tr th:only-of-type {\n",
       "        vertical-align: middle;\n",
       "    }\n",
       "\n",
       "    .dataframe tbody tr th {\n",
       "        vertical-align: top;\n",
       "    }\n",
       "\n",
       "    .dataframe thead th {\n",
       "        text-align: right;\n",
       "    }\n",
       "</style>\n",
       "<table border=\"1\" class=\"dataframe\">\n",
       "  <thead>\n",
       "    <tr style=\"text-align: right;\">\n",
       "      <th></th>\n",
       "      <th>Year</th>\n",
       "      <th>Quarter</th>\n",
       "      <th>Title</th>\n",
       "      <th>Title_revised</th>\n",
       "      <th>Season</th>\n",
       "      <th>Hours Viewed</th>\n",
       "      <th>Rank</th>\n",
       "    </tr>\n",
       "  </thead>\n",
       "  <tbody>\n",
       "    <tr>\n",
       "      <th>639</th>\n",
       "      <td>2020.0</td>\n",
       "      <td>1.0</td>\n",
       "      <td>Anne with an E: Season 3</td>\n",
       "      <td>Anne with an E</td>\n",
       "      <td>Season 3</td>\n",
       "      <td>27900000</td>\n",
       "      <td>3.0</td>\n",
       "    </tr>\n",
       "    <tr>\n",
       "      <th>667</th>\n",
       "      <td>2020.0</td>\n",
       "      <td>1.0</td>\n",
       "      <td>Hospital Playlist: Season 1</td>\n",
       "      <td>Hospital Playlist</td>\n",
       "      <td>Season 1</td>\n",
       "      <td>35000000</td>\n",
       "      <td>1.0</td>\n",
       "    </tr>\n",
       "    <tr>\n",
       "      <th>670</th>\n",
       "      <td>2020.0</td>\n",
       "      <td>1.0</td>\n",
       "      <td>Itaewon Class: Season 1</td>\n",
       "      <td>Itaewon Class</td>\n",
       "      <td>Season 1</td>\n",
       "      <td>29500000</td>\n",
       "      <td>2.0</td>\n",
       "    </tr>\n",
       "    <tr>\n",
       "      <th>676</th>\n",
       "      <td>2020.0</td>\n",
       "      <td>1.0</td>\n",
       "      <td>Locke &amp; Key: Season 1</td>\n",
       "      <td>Locke &amp; Key</td>\n",
       "      <td>Season 1</td>\n",
       "      <td>27800000</td>\n",
       "      <td>4.0</td>\n",
       "    </tr>\n",
       "    <tr>\n",
       "      <th>677</th>\n",
       "      <td>2020.0</td>\n",
       "      <td>1.0</td>\n",
       "      <td>Love Is Blind: Season 1</td>\n",
       "      <td>Love Is Blind</td>\n",
       "      <td>Season 1</td>\n",
       "      <td>26200000</td>\n",
       "      <td>5.0</td>\n",
       "    </tr>\n",
       "    <tr>\n",
       "      <th>...</th>\n",
       "      <td>...</td>\n",
       "      <td>...</td>\n",
       "      <td>...</td>\n",
       "      <td>...</td>\n",
       "      <td>...</td>\n",
       "      <td>...</td>\n",
       "      <td>...</td>\n",
       "    </tr>\n",
       "    <tr>\n",
       "      <th>1597</th>\n",
       "      <td>2023.0</td>\n",
       "      <td>2.0</td>\n",
       "      <td>BEEF: Season 1</td>\n",
       "      <td>BEEF</td>\n",
       "      <td>Season 1</td>\n",
       "      <td>221100000</td>\n",
       "      <td>2.0</td>\n",
       "    </tr>\n",
       "    <tr>\n",
       "      <th>1608</th>\n",
       "      <td>2023.0</td>\n",
       "      <td>2.0</td>\n",
       "      <td>FUBAR: Season 1</td>\n",
       "      <td>FUBAR</td>\n",
       "      <td>Season 1</td>\n",
       "      <td>266200000</td>\n",
       "      <td>1.0</td>\n",
       "    </tr>\n",
       "    <tr>\n",
       "      <th>1632</th>\n",
       "      <td>2023.0</td>\n",
       "      <td>2.0</td>\n",
       "      <td>Sweet Tooth: Season 2</td>\n",
       "      <td>Sweet Tooth</td>\n",
       "      <td>Season 2</td>\n",
       "      <td>182300000</td>\n",
       "      <td>5.0</td>\n",
       "    </tr>\n",
       "    <tr>\n",
       "      <th>1634</th>\n",
       "      <td>2023.0</td>\n",
       "      <td>2.0</td>\n",
       "      <td>The Diplomat: Season 1</td>\n",
       "      <td>The Diplomat</td>\n",
       "      <td>Season 1</td>\n",
       "      <td>214100000</td>\n",
       "      <td>3.0</td>\n",
       "    </tr>\n",
       "    <tr>\n",
       "      <th>1644</th>\n",
       "      <td>2023.0</td>\n",
       "      <td>2.0</td>\n",
       "      <td>XO, Kitty: Season 1</td>\n",
       "      <td>XO, Kitty</td>\n",
       "      <td>Season 1</td>\n",
       "      <td>200700000</td>\n",
       "      <td>4.0</td>\n",
       "    </tr>\n",
       "  </tbody>\n",
       "</table>\n",
       "<p>70 rows × 7 columns</p>\n",
       "</div>"
      ],
      "text/plain": [
       "        Year  Quarter                         Title      Title_revised  \\\n",
       "639   2020.0      1.0      Anne with an E: Season 3     Anne with an E   \n",
       "667   2020.0      1.0  Hospital Playlist: Season 1   Hospital Playlist   \n",
       "670   2020.0      1.0      Itaewon Class: Season 1       Itaewon Class   \n",
       "676   2020.0      1.0         Locke & Key: Season 1        Locke & Key   \n",
       "677   2020.0      1.0       Love Is Blind: Season 1      Love Is Blind   \n",
       "...      ...      ...                           ...                ...   \n",
       "1597  2023.0      2.0                BEEF: Season 1               BEEF   \n",
       "1608  2023.0      2.0               FUBAR: Season 1              FUBAR   \n",
       "1632  2023.0      2.0         Sweet Tooth: Season 2        Sweet Tooth   \n",
       "1634  2023.0      2.0        The Diplomat: Season 1       The Diplomat   \n",
       "1644  2023.0      2.0           XO, Kitty: Season 1          XO, Kitty   \n",
       "\n",
       "        Season  Hours Viewed  Rank  \n",
       "639   Season 3      27900000   3.0  \n",
       "667   Season 1      35000000   1.0  \n",
       "670   Season 1      29500000   2.0  \n",
       "676   Season 1      27800000   4.0  \n",
       "677   Season 1      26200000   5.0  \n",
       "...        ...           ...   ...  \n",
       "1597  Season 1     221100000   2.0  \n",
       "1608  Season 1     266200000   1.0  \n",
       "1632  Season 2     182300000   5.0  \n",
       "1634  Season 1     214100000   3.0  \n",
       "1644  Season 1     200700000   4.0  \n",
       "\n",
       "[70 rows x 7 columns]"
      ]
     },
     "execution_count": 17,
     "metadata": {},
     "output_type": "execute_result"
    }
   ],
   "source": [
    "top_ranked_data[top_ranked_data['Year'] >= 2020]"
   ]
  },
  {
   "cell_type": "code",
   "execution_count": 18,
   "id": "c4b23a11-3af3-4a21-adde-cc66f146568b",
   "metadata": {
    "tags": []
   },
   "outputs": [],
   "source": [
    "title_top = top_ranked_data['Title_revised'].tolist()"
   ]
  },
  {
   "cell_type": "code",
   "execution_count": null,
   "id": "09ce161a-3f44-400a-8063-bac4f67390ec",
   "metadata": {},
   "outputs": [],
   "source": []
  },
  {
   "cell_type": "code",
   "execution_count": null,
   "id": "8a6d5393-cc88-46a3-b350-d2a002af231c",
   "metadata": {},
   "outputs": [],
   "source": []
  },
  {
   "cell_type": "code",
   "execution_count": null,
   "id": "672b1780-7718-4626-b71b-0ac7f1185919",
   "metadata": {},
   "outputs": [],
   "source": []
  },
  {
   "cell_type": "code",
   "execution_count": 19,
   "id": "a8a56478-a54d-408b-91db-981143cfb433",
   "metadata": {
    "tags": []
   },
   "outputs": [],
   "source": [
    "def search_content(query, api_key):\n",
    "    base_url = 'https://api.themoviedb.org/3/search/multi'\n",
    "    params = {\n",
    "        'api_key': api_key,\n",
    "        'query': query\n",
    "    }\n",
    "\n",
    "    response = requests.get(base_url, params=params)\n",
    "    data = response.json()\n",
    "\n",
    "    return data['results'] if 'results' in data else []\n",
    "\n",
    "def get_content_details(content_id, content_type, api_key):\n",
    "    base_url = f'https://api.themoviedb.org/3/{content_type}/{content_id}'\n",
    "    params = {\n",
    "        'api_key': api_key\n",
    "    }\n",
    "\n",
    "    response = requests.get(base_url, params=params)\n",
    "    content_details = response.json()\n",
    "\n",
    "    return content_details\n"
   ]
  },
  {
   "cell_type": "code",
   "execution_count": 20,
   "id": "e503585f-410d-4b7b-8115-7860891fe3c1",
   "metadata": {
    "tags": []
   },
   "outputs": [],
   "source": [
    "import pandas as pd\n",
    "\n",
    "def crawl_content_details(queries, api_key):\n",
    "    content_data = []\n",
    "\n",
    "    for query in queries:\n",
    "        results = search_content(query, api_key)\n",
    "        if results:\n",
    "            for result in results:\n",
    "                content_id = result['id']\n",
    "                content_type = result['media_type']\n",
    "                content_details = get_content_details(content_id, content_type, api_key)\n",
    "                \n",
    "                # Get genre names\n",
    "                genres = []\n",
    "                if 'genres' in content_details:\n",
    "                    genres = [genre['name'] for genre in content_details['genres']]\n",
    "                \n",
    "                content_data.append({\n",
    "                    'Type': content_type,\n",
    "                    'Title': content_details.get('title') if content_type == 'movie' else content_details.get('name'),\n",
    "                    'Overview': content_details.get('overview'),\n",
    "                    'Release Date': content_details.get('release_date') if 'release_date' in content_details else None,\n",
    "                    'Popularity': content_details.get('popularity'),\n",
    "                    'Vote Average': content_details.get('vote_average'),\n",
    "                    'Vote Count': content_details.get('vote_count'),\n",
    "                    'Original Title': content_details.get('original_title'),\n",
    "                    'Original Language': content_details.get('original_language'),\n",
    "                    #'Backdrop Path': content_details.get('backdrop_path'),\n",
    "                    #'Poster Path': content_details.get('poster_path'),\n",
    "                    'Genres': ', '.join(genres),\n",
    "                    # Add more details as needed\n",
    "                })\n",
    "\n",
    "    return pd.DataFrame(content_data)\n"
   ]
  },
  {
   "cell_type": "code",
   "execution_count": null,
   "id": "30f285cf-11c3-4eae-af43-1452e37ee18e",
   "metadata": {
    "tags": []
   },
   "outputs": [],
   "source": [
    "api_key = '75241e7090c032897a89b229dfa54a48'  # Replace 'YOUR_API_KEY_HERE' with your TMDB API key\n",
    "\n",
    "df = crawl_content_details(title_top, api_key)"
   ]
  },
  {
   "cell_type": "code",
   "execution_count": null,
   "id": "93a90cde-22c9-4794-aa73-36ca7f3b6cb7",
   "metadata": {},
   "outputs": [],
   "source": []
  },
  {
   "cell_type": "code",
   "execution_count": null,
   "id": "0de7ad02-3981-467a-af84-ed139adbddcd",
   "metadata": {},
   "outputs": [],
   "source": []
  }
 ],
 "metadata": {
  "kernelspec": {
   "display_name": "Python 3 (ipykernel)",
   "language": "python",
   "name": "python3"
  },
  "language_info": {
   "codemirror_mode": {
    "name": "ipython",
    "version": 3
   },
   "file_extension": ".py",
   "mimetype": "text/x-python",
   "name": "python",
   "nbconvert_exporter": "python",
   "pygments_lexer": "ipython3",
   "version": "3.11.4"
  }
 },
 "nbformat": 4,
 "nbformat_minor": 5
}
