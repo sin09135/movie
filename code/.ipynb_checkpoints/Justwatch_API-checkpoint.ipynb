{
 "cells": [
  {
   "cell_type": "code",
   "execution_count": 1,
   "id": "122421a7-a1cf-40a3-a035-ba07c6e48742",
   "metadata": {
    "tags": []
   },
   "outputs": [],
   "source": [
    "# pip uninstall simple-justwatch-python-api"
   ]
  },
  {
   "cell_type": "code",
   "execution_count": 2,
   "id": "15f61a63-c828-4a06-89c9-9b6e3f9ef473",
   "metadata": {
    "tags": []
   },
   "outputs": [],
   "source": [
    "# pip install simple-justwatch-python-api"
   ]
  },
  {
   "cell_type": "code",
   "execution_count": 1,
   "id": "81c4ba0c-cdce-4ba3-86fb-3ca307895f03",
   "metadata": {
    "tags": []
   },
   "outputs": [
    {
     "name": "stdout",
     "output_type": "stream",
     "text": [
      "\u001b[31mERROR: Could not find a version that satisfies the requirement simplejustwatchapi (from versions: none)\u001b[0m\u001b[31m\n",
      "\u001b[0m\u001b[31mERROR: No matching distribution found for simplejustwatchapi\u001b[0m\u001b[31m\n",
      "\u001b[0mNote: you may need to restart the kernel to use updated packages.\n"
     ]
    }
   ],
   "source": [
    "pip install simplejustwatchapi"
   ]
  },
  {
   "cell_type": "code",
   "execution_count": 4,
   "id": "0de5c3d9-1e97-4a73-aa5e-a868d424bed3",
   "metadata": {
    "tags": []
   },
   "outputs": [
    {
     "ename": "ImportError",
     "evalue": "cannot import name 'JustWatch' from 'simplejustwatchapi' (/Users/kimsinwoo/anaconda3/lib/python3.11/site-packages/simplejustwatchapi/__init__.py)",
     "output_type": "error",
     "traceback": [
      "\u001b[0;31m---------------------------------------------------------------------------\u001b[0m",
      "\u001b[0;31mImportError\u001b[0m                               Traceback (most recent call last)",
      "Cell \u001b[0;32mIn[4], line 1\u001b[0m\n\u001b[0;32m----> 1\u001b[0m \u001b[38;5;28;01mfrom\u001b[39;00m \u001b[38;5;21;01msimplejustwatchapi\u001b[39;00m \u001b[38;5;28;01mimport\u001b[39;00m JustWatch\n",
      "\u001b[0;31mImportError\u001b[0m: cannot import name 'JustWatch' from 'simplejustwatchapi' (/Users/kimsinwoo/anaconda3/lib/python3.11/site-packages/simplejustwatchapi/__init__.py)"
     ]
    }
   ],
   "source": [
    "from simplejustwatchapi import JustWatch"
   ]
  },
  {
   "cell_type": "code",
   "execution_count": null,
   "id": "f3ae79a6-d7f2-4ea6-b627-ba5842e35b74",
   "metadata": {
    "tags": []
   },
   "outputs": [],
   "source": [
    "\n",
    "\n",
    "# JustWatch 객체 생성\n",
    "justwatch = JustWatch(country='US')\n",
    "\n",
    "# 넷플릭스의 제목을 검색하여 결과 가져오기\n",
    "netflix_titles = justwatch.search('Netflix', best_only=False)\n",
    "\n",
    "# 검색 결과에서 각 작품의 제목 출력\n",
    "for title in netflix_titles:\n",
    "    print(title.title)\n"
   ]
  }
 ],
 "metadata": {
  "kernelspec": {
   "display_name": "Python 3 (ipykernel)",
   "language": "python",
   "name": "python3"
  },
  "language_info": {
   "codemirror_mode": {
    "name": "ipython",
    "version": 3
   },
   "file_extension": ".py",
   "mimetype": "text/x-python",
   "name": "python",
   "nbconvert_exporter": "python",
   "pygments_lexer": "ipython3",
   "version": "3.11.4"
  }
 },
 "nbformat": 4,
 "nbformat_minor": 5
}
