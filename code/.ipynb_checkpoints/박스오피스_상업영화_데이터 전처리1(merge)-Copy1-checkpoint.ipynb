{
 "cells": [
  {
   "cell_type": "markdown",
   "id": "cbcb24dc-3a6c-46a5-932f-8de1e0d4f1c4",
   "metadata": {},
   "source": [
    "## 일일 박스오피스 데이터 & 영화정보 merge"
   ]
  },
  {
   "cell_type": "markdown",
   "id": "b431f9bb-7ded-4700-a14d-cf5811bfc19e",
   "metadata": {},
   "source": [
    "- 응답구조\n",
    "    - boxofficeType :문자열\t박스오피스 종류\n",
    "    - showRange : \t문자열\t박스오피스 조회 일자를 출력\n",
    "    - rnum\t문자열\t순번을 출력\n",
    "    - rank\t문자열\t해당일자의 박스오피스 순위를 출력\n",
    "    - rankInten\t문자열\t전일대비 순위의 증감분을 출력\n",
    "    - rankOldAndNew\t문자열\t랭킹에 신규진입여부를 출력\n",
    "    - “OLD” : 기존 , “NEW” : 신규\n",
    "    - movieCd: 문자열\t영화의 대표코드를 출력\n",
    "    - movieNm : 문자열\t영화명(국문)을 출력\n",
    "    - openDt : 문자열\t영화의 개봉일을 출력\n",
    "    - salesAmt : 문자열\t해당일의 매출액을 출력\n",
    "    - salesShare : 문자열\t해당일자 상영작의 매출총액 대비 해당 영화의 매출비율을 출력\n",
    "    - salesInten : 문자열\t전일 대비 매출액 증감분을 출력\n",
    "    - salesChange : 문자열\t전일 대비 매출액 증감 비율을 출력\n",
    "    - salesAcc : 문자열\t누적매출액을 출력\n",
    "    - audiCnt : 문자열\t해당일의 관객수를 출력\n",
    "    - audiInten : 문자열\t전일 대비 관객수 증감분을 출력\n",
    "    - audiChange : 문자열\t전일 대비 관객수 증감 비율을 출력\n",
    "    - audiAcc : 문자열\t누적관객수를 출력합니다.\n",
    "    - scrnCnt : 문자열\t해당일자에 상영한 스크린수를 출력\n",
    "    - showCnt : 문자열\t해당일자에 상영된 횟수를 출력"
   ]
  },
  {
   "cell_type": "code",
   "execution_count": 84,
   "id": "272640c0-9f31-40f0-8820-f6268e61d794",
   "metadata": {
    "tags": []
   },
   "outputs": [],
   "source": [
    "import pandas as pd\n",
    "import numpy as np\n",
    "import time\n",
    "\n",
    "df = pd.read_csv('../data/boxoffice_20_23.csv')\n",
    "data = pd.read_csv('../data/boxoffice_15_19.csv')"
   ]
  },
  {
   "cell_type": "code",
   "execution_count": 85,
   "id": "0b9a6607-eee0-47ce-be82-a9f82578634b",
   "metadata": {
    "tags": []
   },
   "outputs": [],
   "source": [
    "concat_df = pd.concat([data,df], axis = 0)"
   ]
  },
  {
   "cell_type": "code",
   "execution_count": 86,
   "id": "a05a9698-597e-4212-b004-896c8cd1848c",
   "metadata": {
    "tags": []
   },
   "outputs": [],
   "source": [
    "df = concat_df.copy()"
   ]
  },
  {
   "cell_type": "code",
   "execution_count": 87,
   "id": "330cf211-73e8-4975-b1ac-3dd465ed0c83",
   "metadata": {
    "tags": []
   },
   "outputs": [
    {
     "data": {
      "text/plain": [
       "0        2015-01-01\n",
       "1        2015-01-01\n",
       "2        2015-01-01\n",
       "3        2015-01-01\n",
       "4        2015-01-01\n",
       "            ...    \n",
       "14605    2023-12-31\n",
       "14606    2023-12-31\n",
       "14607    2023-12-31\n",
       "14608    2023-12-31\n",
       "14609    2023-12-31\n",
       "Name: current_date, Length: 32870, dtype: object"
      ]
     },
     "execution_count": 87,
     "metadata": {},
     "output_type": "execute_result"
    }
   ],
   "source": [
    "df['current_date']"
   ]
  },
  {
   "cell_type": "code",
   "execution_count": 88,
   "id": "5a4ce5f8-6ee2-45fd-b546-ddd9f470f88c",
   "metadata": {
    "tags": []
   },
   "outputs": [],
   "source": [
    "movie_codes = df['movieCd'].drop_duplicates().tolist()"
   ]
  },
  {
   "cell_type": "markdown",
   "id": "2b2b6634-498b-4f1a-9560-de4d25fcdf45",
   "metadata": {},
   "source": [
    "### 영화 상세정보 크롤링"
   ]
  },
  {
   "cell_type": "code",
   "execution_count": 9,
   "id": "42cd9e91-ac5f-431b-9a0b-7bf996fde557",
   "metadata": {
    "tags": []
   },
   "outputs": [],
   "source": [
    "# import requests\n",
    "# import pandas as pd\n",
    "\n",
    "# key = 'b713496d3bb846528153ba2985029132'\n",
    "# movieCd = 20182530\n",
    "# url = f'http://www.kobis.or.kr/kobisopenapi/webservice/rest/movie/searchMovieInfo.json?key={key}&movieCd={movieCd}'\n",
    "# response = requests.get(url)\n",
    "# r_data = response.json()"
   ]
  },
  {
   "cell_type": "code",
   "execution_count": 10,
   "id": "76b5b00b-6275-4d88-a1ba-adbe296b931b",
   "metadata": {
    "tags": []
   },
   "outputs": [
    {
     "data": {
      "text/html": [
       "<div>\n",
       "<style scoped>\n",
       "    .dataframe tbody tr th:only-of-type {\n",
       "        vertical-align: middle;\n",
       "    }\n",
       "\n",
       "    .dataframe tbody tr th {\n",
       "        vertical-align: top;\n",
       "    }\n",
       "\n",
       "    .dataframe thead th {\n",
       "        text-align: right;\n",
       "    }\n",
       "</style>\n",
       "<table border=\"1\" class=\"dataframe\">\n",
       "  <thead>\n",
       "    <tr style=\"text-align: right;\">\n",
       "      <th></th>\n",
       "      <th>movieCd</th>\n",
       "      <th>movieNm</th>\n",
       "      <th>showTm</th>\n",
       "      <th>prdtYear</th>\n",
       "      <th>openDt</th>\n",
       "      <th>prdtStatNm</th>\n",
       "      <th>typeNm</th>\n",
       "      <th>nationNm</th>\n",
       "      <th>genreNm</th>\n",
       "      <th>director</th>\n",
       "      <th>actor</th>\n",
       "      <th>showTypeGroupNm</th>\n",
       "      <th>showTypeNm</th>\n",
       "      <th>audits</th>\n",
       "    </tr>\n",
       "  </thead>\n",
       "  <tbody>\n",
       "    <tr>\n",
       "      <th>0</th>\n",
       "      <td>20137048</td>\n",
       "      <td>국제시장</td>\n",
       "      <td>126</td>\n",
       "      <td>2014</td>\n",
       "      <td>20141217</td>\n",
       "      <td>개봉</td>\n",
       "      <td>장편</td>\n",
       "      <td>한국</td>\n",
       "      <td>드라마</td>\n",
       "      <td>윤제균</td>\n",
       "      <td>황정민, 김윤진, 오달수, 정진영, 장영남, 라미란, 김슬기, 정영기, 맹세창, 박...</td>\n",
       "      <td>필름, 2D, 2D, 2D</td>\n",
       "      <td>필름, 디지털, 디지털 영문자막, 디지털 가치봄</td>\n",
       "      <td>12세이상관람가</td>\n",
       "    </tr>\n",
       "    <tr>\n",
       "      <th>1</th>\n",
       "      <td>20143642</td>\n",
       "      <td>테이큰 3</td>\n",
       "      <td>111</td>\n",
       "      <td>2014</td>\n",
       "      <td>20150101</td>\n",
       "      <td>개봉</td>\n",
       "      <td>장편</td>\n",
       "      <td>미국</td>\n",
       "      <td>액션</td>\n",
       "      <td>올리비에 메가턴</td>\n",
       "      <td>리암 니슨, 팜케 얀센, 매기 그레이스, 존 그리스, 포레스트 휘테커</td>\n",
       "      <td>필름, 2D, 4D</td>\n",
       "      <td>필름, 디지털, 4D</td>\n",
       "      <td>15세이상관람가</td>\n",
       "    </tr>\n",
       "  </tbody>\n",
       "</table>\n",
       "</div>"
      ],
      "text/plain": [
       "    movieCd movieNm showTm prdtYear    openDt prdtStatNm typeNm nationNm  \\\n",
       "0  20137048    국제시장    126     2014  20141217         개봉     장편       한국   \n",
       "1  20143642   테이큰 3    111     2014  20150101         개봉     장편       미국   \n",
       "\n",
       "  genreNm  director                                              actor  \\\n",
       "0     드라마       윤제균  황정민, 김윤진, 오달수, 정진영, 장영남, 라미란, 김슬기, 정영기, 맹세창, 박...   \n",
       "1      액션  올리비에 메가턴             리암 니슨, 팜케 얀센, 매기 그레이스, 존 그리스, 포레스트 휘테커   \n",
       "\n",
       "  showTypeGroupNm                  showTypeNm    audits  \n",
       "0  필름, 2D, 2D, 2D  필름, 디지털, 디지털 영문자막, 디지털 가치봄  12세이상관람가  \n",
       "1      필름, 2D, 4D                 필름, 디지털, 4D  15세이상관람가  "
      ]
     },
     "execution_count": 10,
     "metadata": {},
     "output_type": "execute_result"
    }
   ],
   "source": [
    "import requests\n",
    "import pandas as pd\n",
    "\n",
    "key = 'b713496d3bb846528153ba2985029132'\n",
    "movie_codes = df['movieCd'].drop_duplicates().tolist()[0:2]\n",
    "\n",
    "info_dfs = []\n",
    "\n",
    "for movieCd in movie_codes:\n",
    "    url = f'http://www.kobis.or.kr/kobisopenapi/webservice/rest/movie/searchMovieInfo.json?key={key}&movieCd={movieCd}'\n",
    "    response = requests.get(url)\n",
    "    r_data = response.json()\n",
    "\n",
    "    # 응답 선택, 값이 없으면 none\n",
    "    selected_data = {\n",
    "        'movieCd': r_data['movieInfoResult']['movieInfo'].get('movieCd', None),\n",
    "        'movieNm': r_data['movieInfoResult']['movieInfo'].get('movieNm', None),\n",
    "        'showTm': r_data['movieInfoResult']['movieInfo'].get('showTm', None),\n",
    "        'prdtYear': r_data['movieInfoResult']['movieInfo'].get('prdtYear', None),\n",
    "        'openDt': r_data['movieInfoResult']['movieInfo'].get('openDt', None),\n",
    "        'prdtStatNm': r_data['movieInfoResult']['movieInfo'].get('prdtStatNm', None),\n",
    "        'typeNm': r_data['movieInfoResult']['movieInfo'].get('typeNm', None),\n",
    "        'nationNm': r_data['movieInfoResult']['movieInfo']['nations'][0].get('nationNm', None),\n",
    "        'genreNm': r_data['movieInfoResult']['movieInfo']['genres'][0].get('genreNm', None) if r_data['movieInfoResult']['movieInfo']['genres'] else None,\n",
    "        'director': r_data['movieInfoResult']['movieInfo']['directors'][0].get('peopleNm', None) if r_data['movieInfoResult']['movieInfo']['directors'] else None,\n",
    "        'actor': ', '.join(actor['peopleNm'] for actor in r_data['movieInfoResult']['movieInfo']['actors']) if r_data['movieInfoResult']['movieInfo']['actors'] else None,\n",
    "        'showTypeGroupNm': ', '.join(stype['showTypeGroupNm'] for stype in r_data['movieInfoResult']['movieInfo'].get('showTypes', [])) if r_data['movieInfoResult']['movieInfo'].get('showTypes') else None,\n",
    "        'showTypeNm': ', '.join(stype['showTypeNm'] for stype in r_data['movieInfoResult']['movieInfo'].get('showTypes', [])) if r_data['movieInfoResult']['movieInfo'].get('showTypes') else None,\n",
    "        'audits': ', '.join(audit['watchGradeNm'] for audit in r_data['movieInfoResult']['movieInfo'].get('audits', [])) if r_data['movieInfoResult']['movieInfo'].get('audits') else None,\n",
    "        \n",
    "    }\n",
    "\n",
    "    info_df = pd.DataFrame([selected_data])\n",
    "    info_dfs.append(info_df)\n",
    "\n",
    "\n",
    "total_info_df = pd.concat(info_dfs, ignore_index=True)\n",
    "total_info_df.head()\n"
   ]
  },
  {
   "cell_type": "code",
   "execution_count": 11,
   "id": "15d25846-5364-4f73-ba1c-7c66ff1a26f9",
   "metadata": {
    "tags": []
   },
   "outputs": [
    {
     "ename": "KeyboardInterrupt",
     "evalue": "",
     "output_type": "error",
     "traceback": [
      "\u001b[0;31m---------------------------------------------------------------------------\u001b[0m",
      "\u001b[0;31mKeyboardInterrupt\u001b[0m                         Traceback (most recent call last)",
      "File \u001b[0;32m<timed exec>:11\u001b[0m\n",
      "File \u001b[0;32m~/anaconda3/lib/python3.11/site-packages/requests/api.py:73\u001b[0m, in \u001b[0;36mget\u001b[0;34m(url, params, **kwargs)\u001b[0m\n\u001b[1;32m     62\u001b[0m \u001b[38;5;28;01mdef\u001b[39;00m \u001b[38;5;21mget\u001b[39m(url, params\u001b[38;5;241m=\u001b[39m\u001b[38;5;28;01mNone\u001b[39;00m, \u001b[38;5;241m*\u001b[39m\u001b[38;5;241m*\u001b[39mkwargs):\n\u001b[1;32m     63\u001b[0m \u001b[38;5;250m    \u001b[39m\u001b[38;5;124mr\u001b[39m\u001b[38;5;124;03m\"\"\"Sends a GET request.\u001b[39;00m\n\u001b[1;32m     64\u001b[0m \n\u001b[1;32m     65\u001b[0m \u001b[38;5;124;03m    :param url: URL for the new :class:`Request` object.\u001b[39;00m\n\u001b[0;32m   (...)\u001b[0m\n\u001b[1;32m     70\u001b[0m \u001b[38;5;124;03m    :rtype: requests.Response\u001b[39;00m\n\u001b[1;32m     71\u001b[0m \u001b[38;5;124;03m    \"\"\"\u001b[39;00m\n\u001b[0;32m---> 73\u001b[0m     \u001b[38;5;28;01mreturn\u001b[39;00m request(\u001b[38;5;124m\"\u001b[39m\u001b[38;5;124mget\u001b[39m\u001b[38;5;124m\"\u001b[39m, url, params\u001b[38;5;241m=\u001b[39mparams, \u001b[38;5;241m*\u001b[39m\u001b[38;5;241m*\u001b[39mkwargs)\n",
      "File \u001b[0;32m~/anaconda3/lib/python3.11/site-packages/requests/api.py:59\u001b[0m, in \u001b[0;36mrequest\u001b[0;34m(method, url, **kwargs)\u001b[0m\n\u001b[1;32m     55\u001b[0m \u001b[38;5;66;03m# By using the 'with' statement we are sure the session is closed, thus we\u001b[39;00m\n\u001b[1;32m     56\u001b[0m \u001b[38;5;66;03m# avoid leaving sockets open which can trigger a ResourceWarning in some\u001b[39;00m\n\u001b[1;32m     57\u001b[0m \u001b[38;5;66;03m# cases, and look like a memory leak in others.\u001b[39;00m\n\u001b[1;32m     58\u001b[0m \u001b[38;5;28;01mwith\u001b[39;00m sessions\u001b[38;5;241m.\u001b[39mSession() \u001b[38;5;28;01mas\u001b[39;00m session:\n\u001b[0;32m---> 59\u001b[0m     \u001b[38;5;28;01mreturn\u001b[39;00m session\u001b[38;5;241m.\u001b[39mrequest(method\u001b[38;5;241m=\u001b[39mmethod, url\u001b[38;5;241m=\u001b[39murl, \u001b[38;5;241m*\u001b[39m\u001b[38;5;241m*\u001b[39mkwargs)\n",
      "File \u001b[0;32m~/anaconda3/lib/python3.11/site-packages/requests/sessions.py:589\u001b[0m, in \u001b[0;36mSession.request\u001b[0;34m(self, method, url, params, data, headers, cookies, files, auth, timeout, allow_redirects, proxies, hooks, stream, verify, cert, json)\u001b[0m\n\u001b[1;32m    584\u001b[0m send_kwargs \u001b[38;5;241m=\u001b[39m {\n\u001b[1;32m    585\u001b[0m     \u001b[38;5;124m\"\u001b[39m\u001b[38;5;124mtimeout\u001b[39m\u001b[38;5;124m\"\u001b[39m: timeout,\n\u001b[1;32m    586\u001b[0m     \u001b[38;5;124m\"\u001b[39m\u001b[38;5;124mallow_redirects\u001b[39m\u001b[38;5;124m\"\u001b[39m: allow_redirects,\n\u001b[1;32m    587\u001b[0m }\n\u001b[1;32m    588\u001b[0m send_kwargs\u001b[38;5;241m.\u001b[39mupdate(settings)\n\u001b[0;32m--> 589\u001b[0m resp \u001b[38;5;241m=\u001b[39m \u001b[38;5;28mself\u001b[39m\u001b[38;5;241m.\u001b[39msend(prep, \u001b[38;5;241m*\u001b[39m\u001b[38;5;241m*\u001b[39msend_kwargs)\n\u001b[1;32m    591\u001b[0m \u001b[38;5;28;01mreturn\u001b[39;00m resp\n",
      "File \u001b[0;32m~/anaconda3/lib/python3.11/site-packages/requests/sessions.py:703\u001b[0m, in \u001b[0;36mSession.send\u001b[0;34m(self, request, **kwargs)\u001b[0m\n\u001b[1;32m    700\u001b[0m start \u001b[38;5;241m=\u001b[39m preferred_clock()\n\u001b[1;32m    702\u001b[0m \u001b[38;5;66;03m# Send the request\u001b[39;00m\n\u001b[0;32m--> 703\u001b[0m r \u001b[38;5;241m=\u001b[39m adapter\u001b[38;5;241m.\u001b[39msend(request, \u001b[38;5;241m*\u001b[39m\u001b[38;5;241m*\u001b[39mkwargs)\n\u001b[1;32m    705\u001b[0m \u001b[38;5;66;03m# Total elapsed time of the request (approximately)\u001b[39;00m\n\u001b[1;32m    706\u001b[0m elapsed \u001b[38;5;241m=\u001b[39m preferred_clock() \u001b[38;5;241m-\u001b[39m start\n",
      "File \u001b[0;32m~/anaconda3/lib/python3.11/site-packages/requests/adapters.py:486\u001b[0m, in \u001b[0;36mHTTPAdapter.send\u001b[0;34m(self, request, stream, timeout, verify, cert, proxies)\u001b[0m\n\u001b[1;32m    483\u001b[0m     timeout \u001b[38;5;241m=\u001b[39m TimeoutSauce(connect\u001b[38;5;241m=\u001b[39mtimeout, read\u001b[38;5;241m=\u001b[39mtimeout)\n\u001b[1;32m    485\u001b[0m \u001b[38;5;28;01mtry\u001b[39;00m:\n\u001b[0;32m--> 486\u001b[0m     resp \u001b[38;5;241m=\u001b[39m conn\u001b[38;5;241m.\u001b[39murlopen(\n\u001b[1;32m    487\u001b[0m         method\u001b[38;5;241m=\u001b[39mrequest\u001b[38;5;241m.\u001b[39mmethod,\n\u001b[1;32m    488\u001b[0m         url\u001b[38;5;241m=\u001b[39murl,\n\u001b[1;32m    489\u001b[0m         body\u001b[38;5;241m=\u001b[39mrequest\u001b[38;5;241m.\u001b[39mbody,\n\u001b[1;32m    490\u001b[0m         headers\u001b[38;5;241m=\u001b[39mrequest\u001b[38;5;241m.\u001b[39mheaders,\n\u001b[1;32m    491\u001b[0m         redirect\u001b[38;5;241m=\u001b[39m\u001b[38;5;28;01mFalse\u001b[39;00m,\n\u001b[1;32m    492\u001b[0m         assert_same_host\u001b[38;5;241m=\u001b[39m\u001b[38;5;28;01mFalse\u001b[39;00m,\n\u001b[1;32m    493\u001b[0m         preload_content\u001b[38;5;241m=\u001b[39m\u001b[38;5;28;01mFalse\u001b[39;00m,\n\u001b[1;32m    494\u001b[0m         decode_content\u001b[38;5;241m=\u001b[39m\u001b[38;5;28;01mFalse\u001b[39;00m,\n\u001b[1;32m    495\u001b[0m         retries\u001b[38;5;241m=\u001b[39m\u001b[38;5;28mself\u001b[39m\u001b[38;5;241m.\u001b[39mmax_retries,\n\u001b[1;32m    496\u001b[0m         timeout\u001b[38;5;241m=\u001b[39mtimeout,\n\u001b[1;32m    497\u001b[0m         chunked\u001b[38;5;241m=\u001b[39mchunked,\n\u001b[1;32m    498\u001b[0m     )\n\u001b[1;32m    500\u001b[0m \u001b[38;5;28;01mexcept\u001b[39;00m (ProtocolError, \u001b[38;5;167;01mOSError\u001b[39;00m) \u001b[38;5;28;01mas\u001b[39;00m err:\n\u001b[1;32m    501\u001b[0m     \u001b[38;5;28;01mraise\u001b[39;00m \u001b[38;5;167;01mConnectionError\u001b[39;00m(err, request\u001b[38;5;241m=\u001b[39mrequest)\n",
      "File \u001b[0;32m~/anaconda3/lib/python3.11/site-packages/urllib3/connectionpool.py:714\u001b[0m, in \u001b[0;36mHTTPConnectionPool.urlopen\u001b[0;34m(self, method, url, body, headers, retries, redirect, assert_same_host, timeout, pool_timeout, release_conn, chunked, body_pos, **response_kw)\u001b[0m\n\u001b[1;32m    711\u001b[0m     \u001b[38;5;28mself\u001b[39m\u001b[38;5;241m.\u001b[39m_prepare_proxy(conn)\n\u001b[1;32m    713\u001b[0m \u001b[38;5;66;03m# Make the request on the httplib connection object.\u001b[39;00m\n\u001b[0;32m--> 714\u001b[0m httplib_response \u001b[38;5;241m=\u001b[39m \u001b[38;5;28mself\u001b[39m\u001b[38;5;241m.\u001b[39m_make_request(\n\u001b[1;32m    715\u001b[0m     conn,\n\u001b[1;32m    716\u001b[0m     method,\n\u001b[1;32m    717\u001b[0m     url,\n\u001b[1;32m    718\u001b[0m     timeout\u001b[38;5;241m=\u001b[39mtimeout_obj,\n\u001b[1;32m    719\u001b[0m     body\u001b[38;5;241m=\u001b[39mbody,\n\u001b[1;32m    720\u001b[0m     headers\u001b[38;5;241m=\u001b[39mheaders,\n\u001b[1;32m    721\u001b[0m     chunked\u001b[38;5;241m=\u001b[39mchunked,\n\u001b[1;32m    722\u001b[0m )\n\u001b[1;32m    724\u001b[0m \u001b[38;5;66;03m# If we're going to release the connection in ``finally:``, then\u001b[39;00m\n\u001b[1;32m    725\u001b[0m \u001b[38;5;66;03m# the response doesn't need to know about the connection. Otherwise\u001b[39;00m\n\u001b[1;32m    726\u001b[0m \u001b[38;5;66;03m# it will also try to release it and we'll have a double-release\u001b[39;00m\n\u001b[1;32m    727\u001b[0m \u001b[38;5;66;03m# mess.\u001b[39;00m\n\u001b[1;32m    728\u001b[0m response_conn \u001b[38;5;241m=\u001b[39m conn \u001b[38;5;28;01mif\u001b[39;00m \u001b[38;5;129;01mnot\u001b[39;00m release_conn \u001b[38;5;28;01melse\u001b[39;00m \u001b[38;5;28;01mNone\u001b[39;00m\n",
      "File \u001b[0;32m~/anaconda3/lib/python3.11/site-packages/urllib3/connectionpool.py:466\u001b[0m, in \u001b[0;36mHTTPConnectionPool._make_request\u001b[0;34m(self, conn, method, url, timeout, chunked, **httplib_request_kw)\u001b[0m\n\u001b[1;32m    461\u001b[0m             httplib_response \u001b[38;5;241m=\u001b[39m conn\u001b[38;5;241m.\u001b[39mgetresponse()\n\u001b[1;32m    462\u001b[0m         \u001b[38;5;28;01mexcept\u001b[39;00m \u001b[38;5;167;01mBaseException\u001b[39;00m \u001b[38;5;28;01mas\u001b[39;00m e:\n\u001b[1;32m    463\u001b[0m             \u001b[38;5;66;03m# Remove the TypeError from the exception chain in\u001b[39;00m\n\u001b[1;32m    464\u001b[0m             \u001b[38;5;66;03m# Python 3 (including for exceptions like SystemExit).\u001b[39;00m\n\u001b[1;32m    465\u001b[0m             \u001b[38;5;66;03m# Otherwise it looks like a bug in the code.\u001b[39;00m\n\u001b[0;32m--> 466\u001b[0m             six\u001b[38;5;241m.\u001b[39mraise_from(e, \u001b[38;5;28;01mNone\u001b[39;00m)\n\u001b[1;32m    467\u001b[0m \u001b[38;5;28;01mexcept\u001b[39;00m (SocketTimeout, BaseSSLError, SocketError) \u001b[38;5;28;01mas\u001b[39;00m e:\n\u001b[1;32m    468\u001b[0m     \u001b[38;5;28mself\u001b[39m\u001b[38;5;241m.\u001b[39m_raise_timeout(err\u001b[38;5;241m=\u001b[39me, url\u001b[38;5;241m=\u001b[39murl, timeout_value\u001b[38;5;241m=\u001b[39mread_timeout)\n",
      "File \u001b[0;32m<string>:3\u001b[0m, in \u001b[0;36mraise_from\u001b[0;34m(value, from_value)\u001b[0m\n",
      "File \u001b[0;32m~/anaconda3/lib/python3.11/site-packages/urllib3/connectionpool.py:461\u001b[0m, in \u001b[0;36mHTTPConnectionPool._make_request\u001b[0;34m(self, conn, method, url, timeout, chunked, **httplib_request_kw)\u001b[0m\n\u001b[1;32m    458\u001b[0m \u001b[38;5;28;01mexcept\u001b[39;00m \u001b[38;5;167;01mTypeError\u001b[39;00m:\n\u001b[1;32m    459\u001b[0m     \u001b[38;5;66;03m# Python 3\u001b[39;00m\n\u001b[1;32m    460\u001b[0m     \u001b[38;5;28;01mtry\u001b[39;00m:\n\u001b[0;32m--> 461\u001b[0m         httplib_response \u001b[38;5;241m=\u001b[39m conn\u001b[38;5;241m.\u001b[39mgetresponse()\n\u001b[1;32m    462\u001b[0m     \u001b[38;5;28;01mexcept\u001b[39;00m \u001b[38;5;167;01mBaseException\u001b[39;00m \u001b[38;5;28;01mas\u001b[39;00m e:\n\u001b[1;32m    463\u001b[0m         \u001b[38;5;66;03m# Remove the TypeError from the exception chain in\u001b[39;00m\n\u001b[1;32m    464\u001b[0m         \u001b[38;5;66;03m# Python 3 (including for exceptions like SystemExit).\u001b[39;00m\n\u001b[1;32m    465\u001b[0m         \u001b[38;5;66;03m# Otherwise it looks like a bug in the code.\u001b[39;00m\n\u001b[1;32m    466\u001b[0m         six\u001b[38;5;241m.\u001b[39mraise_from(e, \u001b[38;5;28;01mNone\u001b[39;00m)\n",
      "File \u001b[0;32m~/anaconda3/lib/python3.11/http/client.py:1378\u001b[0m, in \u001b[0;36mHTTPConnection.getresponse\u001b[0;34m(self)\u001b[0m\n\u001b[1;32m   1376\u001b[0m \u001b[38;5;28;01mtry\u001b[39;00m:\n\u001b[1;32m   1377\u001b[0m     \u001b[38;5;28;01mtry\u001b[39;00m:\n\u001b[0;32m-> 1378\u001b[0m         response\u001b[38;5;241m.\u001b[39mbegin()\n\u001b[1;32m   1379\u001b[0m     \u001b[38;5;28;01mexcept\u001b[39;00m \u001b[38;5;167;01mConnectionError\u001b[39;00m:\n\u001b[1;32m   1380\u001b[0m         \u001b[38;5;28mself\u001b[39m\u001b[38;5;241m.\u001b[39mclose()\n",
      "File \u001b[0;32m~/anaconda3/lib/python3.11/http/client.py:318\u001b[0m, in \u001b[0;36mHTTPResponse.begin\u001b[0;34m(self)\u001b[0m\n\u001b[1;32m    316\u001b[0m \u001b[38;5;66;03m# read until we get a non-100 response\u001b[39;00m\n\u001b[1;32m    317\u001b[0m \u001b[38;5;28;01mwhile\u001b[39;00m \u001b[38;5;28;01mTrue\u001b[39;00m:\n\u001b[0;32m--> 318\u001b[0m     version, status, reason \u001b[38;5;241m=\u001b[39m \u001b[38;5;28mself\u001b[39m\u001b[38;5;241m.\u001b[39m_read_status()\n\u001b[1;32m    319\u001b[0m     \u001b[38;5;28;01mif\u001b[39;00m status \u001b[38;5;241m!=\u001b[39m CONTINUE:\n\u001b[1;32m    320\u001b[0m         \u001b[38;5;28;01mbreak\u001b[39;00m\n",
      "File \u001b[0;32m~/anaconda3/lib/python3.11/http/client.py:279\u001b[0m, in \u001b[0;36mHTTPResponse._read_status\u001b[0;34m(self)\u001b[0m\n\u001b[1;32m    278\u001b[0m \u001b[38;5;28;01mdef\u001b[39;00m \u001b[38;5;21m_read_status\u001b[39m(\u001b[38;5;28mself\u001b[39m):\n\u001b[0;32m--> 279\u001b[0m     line \u001b[38;5;241m=\u001b[39m \u001b[38;5;28mstr\u001b[39m(\u001b[38;5;28mself\u001b[39m\u001b[38;5;241m.\u001b[39mfp\u001b[38;5;241m.\u001b[39mreadline(_MAXLINE \u001b[38;5;241m+\u001b[39m \u001b[38;5;241m1\u001b[39m), \u001b[38;5;124m\"\u001b[39m\u001b[38;5;124miso-8859-1\u001b[39m\u001b[38;5;124m\"\u001b[39m)\n\u001b[1;32m    280\u001b[0m     \u001b[38;5;28;01mif\u001b[39;00m \u001b[38;5;28mlen\u001b[39m(line) \u001b[38;5;241m>\u001b[39m _MAXLINE:\n\u001b[1;32m    281\u001b[0m         \u001b[38;5;28;01mraise\u001b[39;00m LineTooLong(\u001b[38;5;124m\"\u001b[39m\u001b[38;5;124mstatus line\u001b[39m\u001b[38;5;124m\"\u001b[39m)\n",
      "File \u001b[0;32m~/anaconda3/lib/python3.11/socket.py:706\u001b[0m, in \u001b[0;36mSocketIO.readinto\u001b[0;34m(self, b)\u001b[0m\n\u001b[1;32m    704\u001b[0m \u001b[38;5;28;01mwhile\u001b[39;00m \u001b[38;5;28;01mTrue\u001b[39;00m:\n\u001b[1;32m    705\u001b[0m     \u001b[38;5;28;01mtry\u001b[39;00m:\n\u001b[0;32m--> 706\u001b[0m         \u001b[38;5;28;01mreturn\u001b[39;00m \u001b[38;5;28mself\u001b[39m\u001b[38;5;241m.\u001b[39m_sock\u001b[38;5;241m.\u001b[39mrecv_into(b)\n\u001b[1;32m    707\u001b[0m     \u001b[38;5;28;01mexcept\u001b[39;00m timeout:\n\u001b[1;32m    708\u001b[0m         \u001b[38;5;28mself\u001b[39m\u001b[38;5;241m.\u001b[39m_timeout_occurred \u001b[38;5;241m=\u001b[39m \u001b[38;5;28;01mTrue\u001b[39;00m\n",
      "\u001b[0;31mKeyboardInterrupt\u001b[0m: "
     ]
    }
   ],
   "source": [
    "%%time\n",
    "import requests\n",
    "\n",
    "key = '75b69dc273dc0e8cef4e9cfb4736799f'\n",
    "movie_codes = df['movieCd'].drop_duplicates().tolist()\n",
    "\n",
    "info_dfs = []\n",
    "\n",
    "for movieCd in movie_codes:\n",
    "    try:\n",
    "        url = f'http://www.kobis.or.kr/kobisopenapi/webservice/rest/movie/searchMovieInfo.json?key={key}&movieCd={movieCd}'\n",
    "        response = requests.get(url)\n",
    "        r_data = response.json()\n",
    "\n",
    "        # 필요한 필드 선택\n",
    "        selected_data = {\n",
    "            'movieCd': r_data['movieInfoResult']['movieInfo'].get('movieCd', None),\n",
    "            'movieNm': r_data['movieInfoResult']['movieInfo'].get('movieNm', None),\n",
    "            'showTm': r_data['movieInfoResult']['movieInfo'].get('showTm', None),\n",
    "            'prdtYear': r_data['movieInfoResult']['movieInfo'].get('prdtYear', None),\n",
    "            'openDt': r_data['movieInfoResult']['movieInfo'].get('openDt', None),\n",
    "            'prdtStatNm': r_data['movieInfoResult']['movieInfo'].get('prdtStatNm', None),\n",
    "            'typeNm': r_data['movieInfoResult']['movieInfo'].get('typeNm', None),\n",
    "            'nationNm': r_data['movieInfoResult']['movieInfo']['nations'][0]['nationNm'] if r_data['movieInfoResult']['movieInfo'].get('nations') else None,\n",
    "            'genreNm': r_data['movieInfoResult']['movieInfo']['genres'][0]['genreNm'] if r_data['movieInfoResult']['movieInfo'].get('genres') else None,\n",
    "            'director': r_data['movieInfoResult']['movieInfo']['directors'][0]['peopleNm'] if r_data['movieInfoResult']['movieInfo'].get('directors') else None,\n",
    "            'actor': ', '.join(actor['peopleNm'] for actor in r_data['movieInfoResult']['movieInfo'].get('actors', [])),\n",
    "            'showTypeGroupNm': ', '.join(stype['showTypeGroupNm'] for stype in r_data['movieInfoResult']['movieInfo'].get('showTypes', [])) if r_data['movieInfoResult']['movieInfo'].get('showTypes') else None,\n",
    "            'showTypeNm': ', '.join(stype['showTypeNm'] for stype in r_data['movieInfoResult']['movieInfo'].get('showTypes', [])) if r_data['movieInfoResult']['movieInfo'].get('showTypes') else None,\n",
    "            'audits': ', '.join(audit['watchGradeNm'] for audit in r_data['movieInfoResult']['movieInfo'].get('audits', [])) if r_data['movieInfoResult']['movieInfo'].get('audits') else None\n",
    "        }\n",
    "\n",
    "        info_df = pd.DataFrame([selected_data])\n",
    "        info_dfs.append(info_df)\n",
    "    except Exception as e:\n",
    "        print(f\"Error occurred while processing movie code {movieCd}: {e}\")\n",
    "\n",
    "total_info_df = pd.concat(info_dfs, ignore_index=True)\n",
    "total_info_df.head()\n"
   ]
  },
  {
   "cell_type": "code",
   "execution_count": 13,
   "id": "79557400-1dd6-4b32-8727-e30f6aa7d5c0",
   "metadata": {
    "tags": []
   },
   "outputs": [],
   "source": [
    "#total_info_df.to_csv('../data/boxoffice_info_15_23.csv',index = False, encoding = 'utf-8-sig')"
   ]
  },
  {
   "cell_type": "code",
   "execution_count": 108,
   "id": "3098152c-3318-4dd2-92f0-31061536118f",
   "metadata": {
    "tags": []
   },
   "outputs": [],
   "source": [
    "total_info_df = pd.read_csv('../data/boxoffice_info_15_23.csv')"
   ]
  },
  {
   "cell_type": "code",
   "execution_count": 109,
   "id": "8caebc89-56cd-4428-8c2e-270cded53156",
   "metadata": {
    "tags": []
   },
   "outputs": [],
   "source": [
    "total = pd.merge(df,total_info_df, on= ['movieCd','movieNm'], how = 'left')"
   ]
  },
  {
   "cell_type": "code",
   "execution_count": 110,
   "id": "0114be23-0cdf-49f7-bc60-d4dee81e80de",
   "metadata": {
    "tags": []
   },
   "outputs": [
    {
     "name": "stdout",
     "output_type": "stream",
     "text": [
      "<class 'pandas.core.frame.DataFrame'>\n",
      "Int64Index: 33523 entries, 0 to 33522\n",
      "Data columns (total 31 columns):\n",
      " #   Column           Non-Null Count  Dtype  \n",
      "---  ------           --------------  -----  \n",
      " 0   rnum             33523 non-null  int64  \n",
      " 1   rank             33523 non-null  int64  \n",
      " 2   rankInten        33523 non-null  int64  \n",
      " 3   rankOldAndNew    33523 non-null  object \n",
      " 4   movieCd          33523 non-null  object \n",
      " 5   movieNm          33523 non-null  object \n",
      " 6   openDt_x         33523 non-null  object \n",
      " 7   salesAmt         33523 non-null  int64  \n",
      " 8   salesShare       33523 non-null  float64\n",
      " 9   salesInten       33523 non-null  int64  \n",
      " 10  salesChange      33523 non-null  float64\n",
      " 11  salesAcc         33523 non-null  int64  \n",
      " 12  audiCnt          33523 non-null  int64  \n",
      " 13  audiInten        33523 non-null  int64  \n",
      " 14  audiChange       33523 non-null  float64\n",
      " 15  audiAcc          33523 non-null  int64  \n",
      " 16  scrnCnt          33523 non-null  int64  \n",
      " 17  showCnt          33523 non-null  int64  \n",
      " 18  current_date     33523 non-null  object \n",
      " 19  showTm           15004 non-null  float64\n",
      " 20  prdtYear         15041 non-null  float64\n",
      " 21  openDt_y         14998 non-null  float64\n",
      " 22  prdtStatNm       15042 non-null  object \n",
      " 23  typeNm           15042 non-null  object \n",
      " 24  nationNm         15042 non-null  object \n",
      " 25  genreNm          15040 non-null  object \n",
      " 26  director         14422 non-null  object \n",
      " 27  actor            13921 non-null  object \n",
      " 28  showTypeGroupNm  15042 non-null  object \n",
      " 29  showTypeNm       15042 non-null  object \n",
      " 30  audits           15001 non-null  object \n",
      "dtypes: float64(6), int64(11), object(14)\n",
      "memory usage: 8.2+ MB\n"
     ]
    }
   ],
   "source": [
    "total.info()"
   ]
  },
  {
   "cell_type": "code",
   "execution_count": 111,
   "id": "51cd45e8-b959-405e-8bab-2a53cc72e82f",
   "metadata": {
    "tags": []
   },
   "outputs": [
    {
     "data": {
      "text/html": [
       "<div>\n",
       "<style scoped>\n",
       "    .dataframe tbody tr th:only-of-type {\n",
       "        vertical-align: middle;\n",
       "    }\n",
       "\n",
       "    .dataframe tbody tr th {\n",
       "        vertical-align: top;\n",
       "    }\n",
       "\n",
       "    .dataframe thead th {\n",
       "        text-align: right;\n",
       "    }\n",
       "</style>\n",
       "<table border=\"1\" class=\"dataframe\">\n",
       "  <thead>\n",
       "    <tr style=\"text-align: right;\">\n",
       "      <th></th>\n",
       "      <th>openDt_x</th>\n",
       "      <th>openDt_y</th>\n",
       "    </tr>\n",
       "  </thead>\n",
       "  <tbody>\n",
       "    <tr>\n",
       "      <th>0</th>\n",
       "      <td>2014-12-17</td>\n",
       "      <td>NaN</td>\n",
       "    </tr>\n",
       "    <tr>\n",
       "      <th>1</th>\n",
       "      <td>2015-01-01</td>\n",
       "      <td>NaN</td>\n",
       "    </tr>\n",
       "    <tr>\n",
       "      <th>2</th>\n",
       "      <td>2014-12-31</td>\n",
       "      <td>NaN</td>\n",
       "    </tr>\n",
       "    <tr>\n",
       "      <th>3</th>\n",
       "      <td>2014-11-27</td>\n",
       "      <td>NaN</td>\n",
       "    </tr>\n",
       "    <tr>\n",
       "      <th>4</th>\n",
       "      <td>2014-12-24</td>\n",
       "      <td>NaN</td>\n",
       "    </tr>\n",
       "    <tr>\n",
       "      <th>...</th>\n",
       "      <td>...</td>\n",
       "      <td>...</td>\n",
       "    </tr>\n",
       "    <tr>\n",
       "      <th>33518</th>\n",
       "      <td>2023-12-27</td>\n",
       "      <td>20231227.0</td>\n",
       "    </tr>\n",
       "    <tr>\n",
       "      <th>33519</th>\n",
       "      <td>2023-12-13</td>\n",
       "      <td>20231213.0</td>\n",
       "    </tr>\n",
       "    <tr>\n",
       "      <th>33520</th>\n",
       "      <td>2023-11-29</td>\n",
       "      <td>20231129.0</td>\n",
       "    </tr>\n",
       "    <tr>\n",
       "      <th>33521</th>\n",
       "      <td>2023-12-27</td>\n",
       "      <td>20231227.0</td>\n",
       "    </tr>\n",
       "    <tr>\n",
       "      <th>33522</th>\n",
       "      <td>2023-12-27</td>\n",
       "      <td>20231227.0</td>\n",
       "    </tr>\n",
       "  </tbody>\n",
       "</table>\n",
       "<p>33523 rows × 2 columns</p>\n",
       "</div>"
      ],
      "text/plain": [
       "         openDt_x    openDt_y\n",
       "0      2014-12-17         NaN\n",
       "1      2015-01-01         NaN\n",
       "2      2014-12-31         NaN\n",
       "3      2014-11-27         NaN\n",
       "4      2014-12-24         NaN\n",
       "...           ...         ...\n",
       "33518  2023-12-27  20231227.0\n",
       "33519  2023-12-13  20231213.0\n",
       "33520  2023-11-29  20231129.0\n",
       "33521  2023-12-27  20231227.0\n",
       "33522  2023-12-27  20231227.0\n",
       "\n",
       "[33523 rows x 2 columns]"
      ]
     },
     "execution_count": 111,
     "metadata": {},
     "output_type": "execute_result"
    }
   ],
   "source": [
    "total[['openDt_x','openDt_y']] # 년도별 형식이 다름"
   ]
  },
  {
   "cell_type": "code",
   "execution_count": 114,
   "id": "43742f4f-c562-4261-8e2e-9713fee70c7b",
   "metadata": {
    "tags": []
   },
   "outputs": [],
   "source": [
    "# 날짜 형식으로 변환\n",
    "total['openDt_y'] = pd.to_datetime(total['openDt_y'], format='%Y%m%d')"
   ]
  },
  {
   "cell_type": "code",
   "execution_count": 115,
   "id": "9bdc959f-f450-4182-aab6-8e96e1b3d3cb",
   "metadata": {
    "tags": []
   },
   "outputs": [],
   "source": [
    "total['openDt_x'].fillna(total['openDt_y'], inplace=True)"
   ]
  },
  {
   "cell_type": "code",
   "execution_count": 116,
   "id": "e56f1d98-8ec6-4d42-8b67-7092467b535c",
   "metadata": {
    "tags": []
   },
   "outputs": [],
   "source": [
    "total.drop(columns = 'openDt_y', inplace = True)\n",
    "total.rename(columns = {'openDt_x' : 'openDt'}, inplace = True)"
   ]
  },
  {
   "cell_type": "code",
   "execution_count": 117,
   "id": "f7274851-c4e6-4fd5-a904-65937e7c25d5",
   "metadata": {
    "tags": []
   },
   "outputs": [
    {
     "data": {
      "text/plain": [
       "0        2014-12-17\n",
       "1        2015-01-01\n",
       "2        2014-12-31\n",
       "3        2014-11-27\n",
       "4        2014-12-24\n",
       "            ...    \n",
       "33518    2023-12-27\n",
       "33519    2023-12-13\n",
       "33520    2023-11-29\n",
       "33521    2023-12-27\n",
       "33522    2023-12-27\n",
       "Name: openDt, Length: 33523, dtype: object"
      ]
     },
     "execution_count": 117,
     "metadata": {},
     "output_type": "execute_result"
    }
   ],
   "source": [
    "total.openDt"
   ]
  },
  {
   "cell_type": "code",
   "execution_count": 118,
   "id": "1ac96a62-c6cf-4161-850c-ea1d669a4f28",
   "metadata": {
    "tags": []
   },
   "outputs": [
    {
     "name": "stdout",
     "output_type": "stream",
     "text": [
      "<class 'pandas.core.frame.DataFrame'>\n",
      "Int64Index: 33523 entries, 0 to 33522\n",
      "Data columns (total 30 columns):\n",
      " #   Column           Non-Null Count  Dtype  \n",
      "---  ------           --------------  -----  \n",
      " 0   rnum             33523 non-null  int64  \n",
      " 1   rank             33523 non-null  int64  \n",
      " 2   rankInten        33523 non-null  int64  \n",
      " 3   rankOldAndNew    33523 non-null  object \n",
      " 4   movieCd          33523 non-null  object \n",
      " 5   movieNm          33523 non-null  object \n",
      " 6   openDt           33523 non-null  object \n",
      " 7   salesAmt         33523 non-null  int64  \n",
      " 8   salesShare       33523 non-null  float64\n",
      " 9   salesInten       33523 non-null  int64  \n",
      " 10  salesChange      33523 non-null  float64\n",
      " 11  salesAcc         33523 non-null  int64  \n",
      " 12  audiCnt          33523 non-null  int64  \n",
      " 13  audiInten        33523 non-null  int64  \n",
      " 14  audiChange       33523 non-null  float64\n",
      " 15  audiAcc          33523 non-null  int64  \n",
      " 16  scrnCnt          33523 non-null  int64  \n",
      " 17  showCnt          33523 non-null  int64  \n",
      " 18  current_date     33523 non-null  object \n",
      " 19  showTm           15004 non-null  float64\n",
      " 20  prdtYear         15041 non-null  float64\n",
      " 21  prdtStatNm       15042 non-null  object \n",
      " 22  typeNm           15042 non-null  object \n",
      " 23  nationNm         15042 non-null  object \n",
      " 24  genreNm          15040 non-null  object \n",
      " 25  director         14422 non-null  object \n",
      " 26  actor            13921 non-null  object \n",
      " 27  showTypeGroupNm  15042 non-null  object \n",
      " 28  showTypeNm       15042 non-null  object \n",
      " 29  audits           15001 non-null  object \n",
      "dtypes: float64(5), int64(11), object(14)\n",
      "memory usage: 7.9+ MB\n"
     ]
    }
   ],
   "source": [
    "total.info()"
   ]
  },
  {
   "cell_type": "code",
   "execution_count": 119,
   "id": "5317368e-ee66-44da-9727-f5940a07eeeb",
   "metadata": {
    "tags": []
   },
   "outputs": [
    {
     "data": {
      "text/plain": [
       "0        2015-01-01\n",
       "1        2015-01-01\n",
       "2        2015-01-01\n",
       "3        2015-01-01\n",
       "4        2015-01-01\n",
       "            ...    \n",
       "33518    2023-12-31\n",
       "33519    2023-12-31\n",
       "33520    2023-12-31\n",
       "33521    2023-12-31\n",
       "33522    2023-12-31\n",
       "Name: current_date, Length: 33523, dtype: object"
      ]
     },
     "execution_count": 119,
     "metadata": {},
     "output_type": "execute_result"
    }
   ],
   "source": [
    "total.current_date"
   ]
  },
  {
   "cell_type": "code",
   "execution_count": 120,
   "id": "48cb9ad9-c656-49e9-a2cf-8521b245871c",
   "metadata": {
    "tags": []
   },
   "outputs": [],
   "source": [
    "total.to_csv('../data/boxoffice_15_23_total.csv',index = False, encoding = 'utf-8-sig')"
   ]
  },
  {
   "cell_type": "code",
   "execution_count": null,
   "id": "8db6fb4e-338e-4a9d-b312-f863c75a581a",
   "metadata": {},
   "outputs": [],
   "source": []
  }
 ],
 "metadata": {
  "kernelspec": {
   "display_name": "Python 3 (ipykernel)",
   "language": "python",
   "name": "python3"
  },
  "language_info": {
   "codemirror_mode": {
    "name": "ipython",
    "version": 3
   },
   "file_extension": ".py",
   "mimetype": "text/x-python",
   "name": "python",
   "nbconvert_exporter": "python",
   "pygments_lexer": "ipython3",
   "version": "3.11.4"
  }
 },
 "nbformat": 4,
 "nbformat_minor": 5
}
