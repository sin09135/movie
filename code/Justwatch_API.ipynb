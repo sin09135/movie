{
 "cells": [
  {
   "cell_type": "code",
   "execution_count": 1,
   "id": "122421a7-a1cf-40a3-a035-ba07c6e48742",
   "metadata": {
    "tags": []
   },
   "outputs": [],
   "source": [
    "# pip uninstall simple-justwatch-python-api"
   ]
  },
  {
   "cell_type": "code",
   "execution_count": 2,
   "id": "15f61a63-c828-4a06-89c9-9b6e3f9ef473",
   "metadata": {
    "tags": []
   },
   "outputs": [],
   "source": [
    "# pip install simple-justwatch-python-api"
   ]
  },
  {
   "cell_type": "markdown",
   "id": "21731688-b648-491e-b538-871f88872e9e",
   "metadata": {
    "tags": []
   },
   "source": [
    "### Simple API 사용"
   ]
  },
  {
   "cell_type": "code",
   "execution_count": 2,
   "id": "a144c1ec-e0e4-455a-9303-984904cbd184",
   "metadata": {
    "tags": []
   },
   "outputs": [],
   "source": [
    "from simplejustwatchapi.justwatch import search\n",
    "\n",
    "results = search(\"The Night Agent: Season 1\", \"US\", \"en\", 5, True)"
   ]
  },
  {
   "cell_type": "code",
   "execution_count": 8,
   "id": "d2660c2b-b030-4645-a81a-721eb7c1edc6",
   "metadata": {
    "tags": []
   },
   "outputs": [
    {
     "name": "stdout",
     "output_type": "stream",
     "text": [
      "entry_id: ts38802\n",
      "object_id: 38802\n",
      "object_type: SHOW\n",
      "title: The Night Of\n",
      "url: https://justwatch.com/us/tv-show/the-night-of\n",
      "release_year: 2016\n",
      "release_date: 2016-07-10\n",
      "runtime_minutes: 65\n",
      "short_description: After a night of partying with a female stranger, a man wakes up to find her stabbed to death and is charged with her murder.\n",
      "genres: ['crm', 'drm', 'trl']\n",
      "imdb_id: tt2401256\n",
      "\n",
      "entry_id: ts300649\n",
      "object_id: 300649\n",
      "object_type: SHOW\n",
      "title: The Night Agent\n",
      "url: https://justwatch.com/us/tv-show/the-night-agent\n",
      "release_year: 2023\n",
      "release_date: 2023-03-23\n",
      "runtime_minutes: 49\n",
      "short_description: Low-level FBI agent Peter Sutherland works in the basement of the White House manning a phone that never rings - until the night it does, propelling him into a conspiracy that leads all the way to the Oval Office.\n",
      "genres: ['trl', 'act', 'drm']\n",
      "imdb_id: tt13918776\n",
      "\n",
      "entry_id: tm1171106\n",
      "object_id: 1171106\n",
      "object_type: MOVIE\n",
      "title: Late Night with the Devil\n",
      "url: https://justwatch.com/us/movie/late-night-with-the-devil\n",
      "release_year: 2024\n",
      "release_date: 2024-03-19\n",
      "runtime_minutes: 99\n",
      "short_description: A live broadcast of a late-night talk show in 1977 goes horribly wrong, unleashing evil into the nation's living rooms.\n",
      "genres: ['hrr']\n",
      "imdb_id: tt14966898\n",
      "\n",
      "entry_id: ts41945\n",
      "object_id: 41945\n",
      "object_type: SHOW\n",
      "title: The Night Manager\n",
      "url: https://justwatch.com/us/tv-show/the-night-manager\n",
      "release_year: 2016\n",
      "release_date: 2016-02-21\n",
      "runtime_minutes: 60\n",
      "short_description: Former British soldier Jonathan Pine navigates the shadowy recesses of Whitehall and Washington where an unholy alliance operates between the intelligence community and the secret arms trade. To infiltrate the inner circle of lethal arms dealer Richard Onslow Roper, Pine must himself become a criminal.\n",
      "genres: ['trl', 'crm', 'drm', 'eur']\n",
      "imdb_id: tt1399664\n",
      "\n",
      "entry_id: ts20917\n",
      "object_id: 20917\n",
      "object_type: SHOW\n",
      "title: The Night Shift\n",
      "url: https://justwatch.com/us/tv-show/the-night-shift\n",
      "release_year: 2014\n",
      "release_date: 2014-05-27\n",
      "runtime_minutes: 42\n",
      "short_description: The stories of the men and women who work the overnight shift at San Antonio Memorial Hospital. They are an irreverent and special breed, particularly adrenaline junkie T.C. Callahan.\n",
      "genres: ['drm', 'rma']\n",
      "imdb_id: tt2477230\n",
      "\n"
     ]
    }
   ],
   "source": [
    "# results에서 필요한 정보만 추출\n",
    "extracted_results = []\n",
    "for result in results:\n",
    "    extracted_result = {\n",
    "        'entry_id': result.entry_id,\n",
    "        'object_id': result.object_id,\n",
    "        'object_type': result.object_type,\n",
    "        'title': result.title,\n",
    "        'url': result.url,\n",
    "        'release_year': result.release_year,\n",
    "        'release_date': result.release_date,\n",
    "        'runtime_minutes': result.runtime_minutes,\n",
    "        'short_description': result.short_description,\n",
    "        'genres': result.genres,\n",
    "        'imdb_id': result.imdb_id,\n",
    "    }\n",
    "    extracted_results.append(extracted_result)\n",
    "\n",
    "# 추출된 결과 출력\n",
    "for result in extracted_results:\n",
    "    print(\"entry_id:\", result['entry_id'])\n",
    "    print(\"object_id:\", result['object_id'])\n",
    "    print(\"object_type:\", result['object_type'])\n",
    "    print(\"title:\", result['title'])\n",
    "    print(\"url:\", result['url'])\n",
    "    print(\"release_year:\", result['release_year'])\n",
    "    print(\"release_date:\", result['release_date'])\n",
    "    print(\"runtime_minutes:\", result['runtime_minutes'])\n",
    "    print(\"short_description:\", result['short_description'])\n",
    "    print(\"genres:\", result['genres'])\n",
    "    print(\"imdb_id:\", result['imdb_id'])\n",
    "    print()\n"
   ]
  },
  {
   "cell_type": "markdown",
   "id": "986bc861-f9be-46fb-a53e-bb266141566c",
   "metadata": {},
   "source": [
    "### TMDB API"
   ]
  },
  {
   "cell_type": "code",
   "execution_count": 24,
   "id": "79c9c648-b9a2-449c-8285-50244e0f0a43",
   "metadata": {
    "tags": []
   },
   "outputs": [
    {
     "name": "stdin",
     "output_type": "stream",
     "text": [
      "Enter your search query:  The Night Agent\n"
     ]
    },
    {
     "name": "stdout",
     "output_type": "stream",
     "text": [
      "No results found.\n"
     ]
    }
   ],
   "source": [
    "import requests\n",
    "\n",
    "def search_tmdb(query):\n",
    "    api_key = 'YOUR_API_KEY_HERE'  # Replace 'YOUR_API_KEY_HERE' with your TMDB API key\n",
    "    base_url = 'https://api.themoviedb.org/3/search/multi'\n",
    "    params = {\n",
    "        'api_key': api_key,\n",
    "        'query': query\n",
    "    }\n",
    "\n",
    "    response = requests.get(base_url, params=params)\n",
    "    data = response.json()\n",
    "\n",
    "    return data['results'] if 'results' in data else []\n",
    "\n",
    "def get_genre_names(genre_ids):\n",
    "    api_key = '75241e7090c032897a89b229dfa54a48'  # Replace 'YOUR_API_KEY_HERE' with your TMDB API key\n",
    "    base_url = 'https://api.themoviedb.org/3/genre/movie/list'\n",
    "    params = {\n",
    "        'api_key': api_key\n",
    "    }\n",
    "\n",
    "    response = requests.get(base_url, params=params)\n",
    "    genres = response.json()['genres']\n",
    "\n",
    "    genre_names = [genre['name'] for genre in genres if genre['id'] in genre_ids]\n",
    "    return genre_names\n",
    "\n",
    "# Example usage\n",
    "search_query = input(\"Enter your search query: \")\n",
    "results = search_tmdb(search_query)\n",
    "\n",
    "if results:\n",
    "    print(\"Search Results:\")\n",
    "    for result in results:\n",
    "        print(\"Type:\", result['media_type'])\n",
    "        if 'title' in result:\n",
    "            print(\"Title:\", result['title'])\n",
    "        elif 'name' in result:\n",
    "            print(\"Name:\", result['name'])\n",
    "        print(\"Overview:\", result['overview'])\n",
    "\n",
    "        if 'genre_ids' in result:\n",
    "            genre_names = get_genre_names(result['genre_ids'])\n",
    "            print(\"Genres:\", ', '.join(genre_names))\n",
    "\n",
    "        if 'release_date' in result:\n",
    "            print(\"Release Date:\", result['release_date'])\n",
    "\n",
    "        if 'certification' in result:\n",
    "            print(\"Certification:\", result['certification'])\n",
    "\n",
    "        print()  # Add a newline for better readability\n",
    "else:\n",
    "    print(\"No results found.\")\n"
   ]
  },
  {
   "cell_type": "code",
   "execution_count": 26,
   "id": "be2b0706-ea99-4304-b034-c2b2fb684be8",
   "metadata": {
    "tags": []
   },
   "outputs": [],
   "source": [
    "import requests\n",
    "\n",
    "def search_movie(query, api_key):\n",
    "    base_url = 'https://api.themoviedb.org/3/search/movie'\n",
    "    params = {\n",
    "        'api_key': api_key,\n",
    "        'query': query\n",
    "    }\n",
    "\n",
    "    response = requests.get(base_url, params=params)\n",
    "    data = response.json()\n",
    "\n",
    "    if 'results' in data and len(data['results']) > 0:\n",
    "        movie_id = data['results'][0]['id']\n",
    "        return movie_id\n",
    "    else:\n",
    "        return None\n",
    "\n",
    "def get_movie_details(movie_id, api_key):\n",
    "    base_url = f'https://api.themoviedb.org/3/movie/{movie_id}'\n",
    "    params = {\n",
    "        'api_key': api_key\n",
    "    }\n",
    "\n",
    "    response = requests.get(base_url, params=params)\n",
    "    movie_details = response.json()\n",
    "\n",
    "    return movie_details\n"
   ]
  },
  {
   "cell_type": "code",
   "execution_count": 28,
   "id": "84179d6b-5155-4555-b00f-19f91e01ff98",
   "metadata": {
    "tags": []
   },
   "outputs": [
    {
     "name": "stdin",
     "output_type": "stream",
     "text": [
      "Enter the movie title:  The Night Agent\n"
     ]
    },
    {
     "name": "stdout",
     "output_type": "stream",
     "text": [
      "Movie found. Fetching details...\n",
      "Movie Details:\n",
      "Title: Agent 5: A Night in the Last Life of\n",
      "Overview: A lost man surfaces from a crude underground espionage experiment. He is stalked through a city's recesses by a murky assassin. The curious image of a \"cowboy\" haunts his thoughts. He should die tonight, but doesn't know why.\n",
      "Release Date: 2008-06-13\n",
      "Popularity: 0.6\n",
      "Genres: Mystery\n"
     ]
    }
   ],
   "source": [
    "# Example usage\n",
    "api_key = '75241e7090c032897a89b229dfa54a48'  # Replace 'YOUR_API_KEY_HERE' with your TMDB API key\n",
    "search_query = input(\"Enter the movie title: \")\n",
    "\n",
    "# Search for the movie\n",
    "movie_id = search_movie(search_query, api_key)\n",
    "\n",
    "if movie_id:\n",
    "    print(\"Movie found. Fetching details...\")\n",
    "    # Get movie details using the movie ID\n",
    "    movie_details = get_movie_details(movie_id, api_key)\n",
    "    print(\"Movie Details:\")\n",
    "    print(\"Title:\", movie_details['title'])\n",
    "    print(\"Overview:\", movie_details['overview'])\n",
    "    print(\"Release Date:\", movie_details.get('release_date', 'N/A'))\n",
    "    print(\"Popularity:\", movie_details.get('popularity', 'N/A'))\n",
    "    if 'genres' in movie_details:\n",
    "        genres = \", \".join(genre['name'] for genre in movie_details['genres'])\n",
    "        print(\"Genres:\", genres)\n",
    "    else:\n",
    "        print(\"Genres: N/A\")\n",
    "    # You can include more details as needed\n",
    "else:\n",
    "    print(\"Movie not found.\")\n"
   ]
  },
  {
   "cell_type": "code",
   "execution_count": null,
   "id": "1dbb225c-93d3-4772-a929-ad1ff113e930",
   "metadata": {},
   "outputs": [],
   "source": []
  }
 ],
 "metadata": {
  "kernelspec": {
   "display_name": "Python 3 (ipykernel)",
   "language": "python",
   "name": "python3"
  },
  "language_info": {
   "codemirror_mode": {
    "name": "ipython",
    "version": 3
   },
   "file_extension": ".py",
   "mimetype": "text/x-python",
   "name": "python",
   "nbconvert_exporter": "python",
   "pygments_lexer": "ipython3",
   "version": "3.11.4"
  }
 },
 "nbformat": 4,
 "nbformat_minor": 5
}
