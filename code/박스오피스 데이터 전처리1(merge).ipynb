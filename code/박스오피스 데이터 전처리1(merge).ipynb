{
 "cells": [
  {
   "cell_type": "markdown",
   "id": "cbcb24dc-3a6c-46a5-932f-8de1e0d4f1c4",
   "metadata": {},
   "source": [
    "## 일일 박스오피스 데이터 & 영화정보 merge"
   ]
  },
  {
   "cell_type": "markdown",
   "id": "b431f9bb-7ded-4700-a14d-cf5811bfc19e",
   "metadata": {},
   "source": [
    "- 응답구조\n",
    "    - boxofficeType :문자열\t박스오피스 종류\n",
    "    - showRange : \t문자열\t박스오피스 조회 일자를 출력\n",
    "    - rnum\t문자열\t순번을 출력\n",
    "    - rank\t문자열\t해당일자의 박스오피스 순위를 출력\n",
    "    - rankInten\t문자열\t전일대비 순위의 증감분을 출력\n",
    "    - rankOldAndNew\t문자열\t랭킹에 신규진입여부를 출력\n",
    "    - “OLD” : 기존 , “NEW” : 신규\n",
    "    - movieCd: 문자열\t영화의 대표코드를 출력\n",
    "    - movieNm : 문자열\t영화명(국문)을 출력\n",
    "    - openDt : 문자열\t영화의 개봉일을 출력\n",
    "    - salesAmt : 문자열\t해당일의 매출액을 출력\n",
    "    - salesShare : 문자열\t해당일자 상영작의 매출총액 대비 해당 영화의 매출비율을 출력\n",
    "    - salesInten : 문자열\t전일 대비 매출액 증감분을 출력\n",
    "    - salesChange : 문자열\t전일 대비 매출액 증감 비율을 출력\n",
    "    - salesAcc : 문자열\t누적매출액을 출력\n",
    "    - audiCnt : 문자열\t해당일의 관객수를 출력\n",
    "    - audiInten : 문자열\t전일 대비 관객수 증감분을 출력\n",
    "    - audiChange : 문자열\t전일 대비 관객수 증감 비율을 출력\n",
    "    - audiAcc : 문자열\t누적관객수를 출력합니다.\n",
    "    - scrnCnt : 문자열\t해당일자에 상영한 스크린수를 출력\n",
    "    - showCnt : 문자열\t해당일자에 상영된 횟수를 출력"
   ]
  },
  {
   "cell_type": "code",
   "execution_count": 84,
   "id": "272640c0-9f31-40f0-8820-f6268e61d794",
   "metadata": {
    "tags": []
   },
   "outputs": [],
   "source": [
    "import pandas as pd\n",
    "import numpy as np\n",
    "import time\n",
    "\n",
    "df = pd.read_csv('../data/boxoffice_20_23.csv')\n",
    "data = pd.read_csv('../data/boxoffice_15_19.csv')"
   ]
  },
  {
   "cell_type": "code",
   "execution_count": 85,
   "id": "0b9a6607-eee0-47ce-be82-a9f82578634b",
   "metadata": {
    "tags": []
   },
   "outputs": [],
   "source": [
    "concat_df = pd.concat([data,df], axis = 0)"
   ]
  },
  {
   "cell_type": "code",
   "execution_count": 86,
   "id": "a05a9698-597e-4212-b004-896c8cd1848c",
   "metadata": {
    "tags": []
   },
   "outputs": [],
   "source": [
    "df = concat_df.copy()"
   ]
  },
  {
   "cell_type": "code",
   "execution_count": 87,
   "id": "330cf211-73e8-4975-b1ac-3dd465ed0c83",
   "metadata": {
    "tags": []
   },
   "outputs": [
    {
     "data": {
      "text/plain": [
       "0        2015-01-01\n",
       "1        2015-01-01\n",
       "2        2015-01-01\n",
       "3        2015-01-01\n",
       "4        2015-01-01\n",
       "            ...    \n",
       "14605    2023-12-31\n",
       "14606    2023-12-31\n",
       "14607    2023-12-31\n",
       "14608    2023-12-31\n",
       "14609    2023-12-31\n",
       "Name: current_date, Length: 32870, dtype: object"
      ]
     },
     "execution_count": 87,
     "metadata": {},
     "output_type": "execute_result"
    }
   ],
   "source": [
    "df['current_date']"
   ]
  },
  {
   "cell_type": "code",
   "execution_count": 88,
   "id": "5a4ce5f8-6ee2-45fd-b546-ddd9f470f88c",
   "metadata": {
    "tags": []
   },
   "outputs": [],
   "source": [
    "movie_codes = df['movieCd'].drop_duplicates().tolist()"
   ]
  },
  {
   "cell_type": "code",
   "execution_count": 171,
   "id": "3188d327-e0bc-4444-9b5c-5c758bf0c738",
   "metadata": {
    "tags": []
   },
   "outputs": [],
   "source": [
    "df24 = pd.read_csv('../data/boxoffice_24.csv')"
   ]
  },
  {
   "cell_type": "markdown",
   "id": "2b2b6634-498b-4f1a-9560-de4d25fcdf45",
   "metadata": {},
   "source": [
    "### 영화 상세정보 크롤링"
   ]
  },
  {
   "cell_type": "code",
   "execution_count": 9,
   "id": "42cd9e91-ac5f-431b-9a0b-7bf996fde557",
   "metadata": {
    "tags": []
   },
   "outputs": [],
   "source": [
    "# import requests\n",
    "# import pandas as pd\n",
    "\n",
    "# key = 'b713496d3bb846528153ba2985029132'\n",
    "# movieCd = 20182530\n",
    "# url = f'http://www.kobis.or.kr/kobisopenapi/webservice/rest/movie/searchMovieInfo.json?key={key}&movieCd={movieCd}'\n",
    "# response = requests.get(url)\n",
    "# r_data = response.json()"
   ]
  },
  {
   "cell_type": "code",
   "execution_count": 122,
   "id": "15d25846-5364-4f73-ba1c-7c66ff1a26f9",
   "metadata": {
    "tags": []
   },
   "outputs": [
    {
     "name": "stdout",
     "output_type": "stream",
     "text": [
      "CPU times: user 360 ms, sys: 177 ms, total: 537 ms\n",
      "Wall time: 39 s\n"
     ]
    },
    {
     "data": {
      "text/html": [
       "<div>\n",
       "<style scoped>\n",
       "    .dataframe tbody tr th:only-of-type {\n",
       "        vertical-align: middle;\n",
       "    }\n",
       "\n",
       "    .dataframe tbody tr th {\n",
       "        vertical-align: top;\n",
       "    }\n",
       "\n",
       "    .dataframe thead th {\n",
       "        text-align: right;\n",
       "    }\n",
       "</style>\n",
       "<table border=\"1\" class=\"dataframe\">\n",
       "  <thead>\n",
       "    <tr style=\"text-align: right;\">\n",
       "      <th></th>\n",
       "      <th>movieCd</th>\n",
       "      <th>movieNm</th>\n",
       "      <th>showTm</th>\n",
       "      <th>prdtYear</th>\n",
       "      <th>openDt</th>\n",
       "      <th>prdtStatNm</th>\n",
       "      <th>typeNm</th>\n",
       "      <th>nationNm</th>\n",
       "      <th>genreNm</th>\n",
       "      <th>director</th>\n",
       "      <th>actor</th>\n",
       "      <th>showTypeGroupNm</th>\n",
       "      <th>showTypeNm</th>\n",
       "      <th>audits</th>\n",
       "    </tr>\n",
       "  </thead>\n",
       "  <tbody>\n",
       "    <tr>\n",
       "      <th>0</th>\n",
       "      <td>20203702</td>\n",
       "      <td>노량: 죽음의 바다</td>\n",
       "      <td>152</td>\n",
       "      <td>2022</td>\n",
       "      <td>20231220</td>\n",
       "      <td>개봉</td>\n",
       "      <td>장편</td>\n",
       "      <td>한국</td>\n",
       "      <td>사극</td>\n",
       "      <td>김한민</td>\n",
       "      <td>김윤석, 백윤식, 정재영, 허준호, 김성규, 이규형, 이무생, 최덕문, 안보현, 박...</td>\n",
       "      <td>2D, 2D, 2D, 4D, IMAX, ScreenX, DOLBYCINEMA</td>\n",
       "      <td>디지털, 디지털 한글자막 CC, 디지털 가치봄, 4D, IMAX, ScreenX, ...</td>\n",
       "      <td>12세이상관람가</td>\n",
       "    </tr>\n",
       "    <tr>\n",
       "      <th>1</th>\n",
       "      <td>20212866</td>\n",
       "      <td>서울의 봄</td>\n",
       "      <td>141</td>\n",
       "      <td>2022</td>\n",
       "      <td>20231122</td>\n",
       "      <td>개봉</td>\n",
       "      <td>장편</td>\n",
       "      <td>한국</td>\n",
       "      <td>드라마</td>\n",
       "      <td>김성수</td>\n",
       "      <td>황정민, 정우성, 이성민, 박해준, 김성균, 김의성, 정동환, 안내상, 유성주, 최...</td>\n",
       "      <td>2D, 2D, 2D, IMAX</td>\n",
       "      <td>디지털, 디지털 한글자막 CC, 디지털 가치봄, IMAX</td>\n",
       "      <td>12세이상관람가</td>\n",
       "    </tr>\n",
       "    <tr>\n",
       "      <th>2</th>\n",
       "      <td>20236146</td>\n",
       "      <td>신차원! 짱구는 못말려 더 무비 초능력 대결전 ~날아라 수제김밥~</td>\n",
       "      <td>94</td>\n",
       "      <td>2023</td>\n",
       "      <td>20231222</td>\n",
       "      <td>개봉</td>\n",
       "      <td>장편</td>\n",
       "      <td>일본</td>\n",
       "      <td>애니메이션</td>\n",
       "      <td>오네 히토시</td>\n",
       "      <td></td>\n",
       "      <td>2D, 2D, 2D</td>\n",
       "      <td>디지털, 디지털 한글자막 CC, 디지털 더빙</td>\n",
       "      <td>전체관람가</td>\n",
       "    </tr>\n",
       "    <tr>\n",
       "      <th>3</th>\n",
       "      <td>20235735</td>\n",
       "      <td>아쿠아맨과 로스트 킹덤</td>\n",
       "      <td>123</td>\n",
       "      <td>2023</td>\n",
       "      <td>20231220</td>\n",
       "      <td>개봉</td>\n",
       "      <td>장편</td>\n",
       "      <td>미국</td>\n",
       "      <td>액션</td>\n",
       "      <td>제임스 완</td>\n",
       "      <td>제이슨 모모아, 패트릭 윌슨, 야히아 압둘 마틴 2세, 앰버 허드, 니콜 키드먼</td>\n",
       "      <td>2D, 4D, IMAX, ScreenX, DOLBYCINEMA</td>\n",
       "      <td>디지털, 4D, IMAX, ScreenX, DOLBYCINEMA</td>\n",
       "      <td>12세이상관람가</td>\n",
       "    </tr>\n",
       "    <tr>\n",
       "      <th>4</th>\n",
       "      <td>20235596</td>\n",
       "      <td>트롤: 밴드 투게더</td>\n",
       "      <td>91</td>\n",
       "      <td>2023</td>\n",
       "      <td>20231220</td>\n",
       "      <td>개봉</td>\n",
       "      <td>장편</td>\n",
       "      <td>미국</td>\n",
       "      <td>애니메이션</td>\n",
       "      <td>월트 도른</td>\n",
       "      <td>안나 켄드릭, 저스틴 팀버레이크, 주이 디샤넬, 에이미 슈머, 앤드류 라넬스</td>\n",
       "      <td>2D, 2D, 4D, 4D, DOLBYCINEMA</td>\n",
       "      <td>디지털, 디지털 더빙, 4D 더빙, 4D, DOLBYCINEMA</td>\n",
       "      <td>전체관람가</td>\n",
       "    </tr>\n",
       "  </tbody>\n",
       "</table>\n",
       "</div>"
      ],
      "text/plain": [
       "    movieCd                               movieNm showTm prdtYear    openDt  \\\n",
       "0  20203702                            노량: 죽음의 바다    152     2022  20231220   \n",
       "1  20212866                                 서울의 봄    141     2022  20231122   \n",
       "2  20236146  신차원! 짱구는 못말려 더 무비 초능력 대결전 ~날아라 수제김밥~     94     2023  20231222   \n",
       "3  20235735                          아쿠아맨과 로스트 킹덤    123     2023  20231220   \n",
       "4  20235596                            트롤: 밴드 투게더     91     2023  20231220   \n",
       "\n",
       "  prdtStatNm typeNm nationNm genreNm director  \\\n",
       "0         개봉     장편       한국      사극      김한민   \n",
       "1         개봉     장편       한국     드라마      김성수   \n",
       "2         개봉     장편       일본   애니메이션   오네 히토시   \n",
       "3         개봉     장편       미국      액션    제임스 완   \n",
       "4         개봉     장편       미국   애니메이션    월트 도른   \n",
       "\n",
       "                                               actor  \\\n",
       "0  김윤석, 백윤식, 정재영, 허준호, 김성규, 이규형, 이무생, 최덕문, 안보현, 박...   \n",
       "1  황정민, 정우성, 이성민, 박해준, 김성균, 김의성, 정동환, 안내상, 유성주, 최...   \n",
       "2                                                      \n",
       "3       제이슨 모모아, 패트릭 윌슨, 야히아 압둘 마틴 2세, 앰버 허드, 니콜 키드먼   \n",
       "4         안나 켄드릭, 저스틴 팀버레이크, 주이 디샤넬, 에이미 슈머, 앤드류 라넬스   \n",
       "\n",
       "                              showTypeGroupNm  \\\n",
       "0  2D, 2D, 2D, 4D, IMAX, ScreenX, DOLBYCINEMA   \n",
       "1                            2D, 2D, 2D, IMAX   \n",
       "2                                  2D, 2D, 2D   \n",
       "3          2D, 4D, IMAX, ScreenX, DOLBYCINEMA   \n",
       "4                 2D, 2D, 4D, 4D, DOLBYCINEMA   \n",
       "\n",
       "                                          showTypeNm    audits  \n",
       "0  디지털, 디지털 한글자막 CC, 디지털 가치봄, 4D, IMAX, ScreenX, ...  12세이상관람가  \n",
       "1                    디지털, 디지털 한글자막 CC, 디지털 가치봄, IMAX  12세이상관람가  \n",
       "2                           디지털, 디지털 한글자막 CC, 디지털 더빙     전체관람가  \n",
       "3                디지털, 4D, IMAX, ScreenX, DOLBYCINEMA  12세이상관람가  \n",
       "4                디지털, 디지털 더빙, 4D 더빙, 4D, DOLBYCINEMA     전체관람가  "
      ]
     },
     "execution_count": 122,
     "metadata": {},
     "output_type": "execute_result"
    }
   ],
   "source": [
    "%%time\n",
    "import requests\n",
    "\n",
    "key = '75b69dc273dc0e8cef4e9cfb4736799f'\n",
    "movie_codes = df24['movieCd'].drop_duplicates().tolist()\n",
    "\n",
    "info_dfs = []\n",
    "\n",
    "for movieCd in movie_codes:\n",
    "    try:\n",
    "        url = f'http://www.kobis.or.kr/kobisopenapi/webservice/rest/movie/searchMovieInfo.json?key={key}&movieCd={movieCd}'\n",
    "        response = requests.get(url)\n",
    "        r_data = response.json()\n",
    "\n",
    "        # 필요한 필드 선택\n",
    "        selected_data = {\n",
    "            'movieCd': r_data['movieInfoResult']['movieInfo'].get('movieCd', None),\n",
    "            'movieNm': r_data['movieInfoResult']['movieInfo'].get('movieNm', None),\n",
    "            'showTm': r_data['movieInfoResult']['movieInfo'].get('showTm', None),\n",
    "            'prdtYear': r_data['movieInfoResult']['movieInfo'].get('prdtYear', None),\n",
    "            'openDt': r_data['movieInfoResult']['movieInfo'].get('openDt', None),\n",
    "            'prdtStatNm': r_data['movieInfoResult']['movieInfo'].get('prdtStatNm', None),\n",
    "            'typeNm': r_data['movieInfoResult']['movieInfo'].get('typeNm', None),\n",
    "            'nationNm': r_data['movieInfoResult']['movieInfo']['nations'][0]['nationNm'] if r_data['movieInfoResult']['movieInfo'].get('nations') else None,\n",
    "            'genreNm': r_data['movieInfoResult']['movieInfo']['genres'][0]['genreNm'] if r_data['movieInfoResult']['movieInfo'].get('genres') else None,\n",
    "            'director': r_data['movieInfoResult']['movieInfo']['directors'][0]['peopleNm'] if r_data['movieInfoResult']['movieInfo'].get('directors') else None,\n",
    "            'actor': ', '.join(actor['peopleNm'] for actor in r_data['movieInfoResult']['movieInfo'].get('actors', [])),\n",
    "            'showTypeGroupNm': ', '.join(stype['showTypeGroupNm'] for stype in r_data['movieInfoResult']['movieInfo'].get('showTypes', [])) if r_data['movieInfoResult']['movieInfo'].get('showTypes') else None,\n",
    "            'showTypeNm': ', '.join(stype['showTypeNm'] for stype in r_data['movieInfoResult']['movieInfo'].get('showTypes', [])) if r_data['movieInfoResult']['movieInfo'].get('showTypes') else None,\n",
    "            'audits': ', '.join(audit['watchGradeNm'] for audit in r_data['movieInfoResult']['movieInfo'].get('audits', [])) if r_data['movieInfoResult']['movieInfo'].get('audits') else None\n",
    "        }\n",
    "\n",
    "        info_df = pd.DataFrame([selected_data])\n",
    "        info_dfs.append(info_df)\n",
    "    except Exception as e:\n",
    "        print(f\"Error occurred while processing movie code {movieCd}: {e}\")\n",
    "\n",
    "total_info_df = pd.concat(info_dfs, ignore_index=True)\n",
    "total_info_df.head()\n"
   ]
  },
  {
   "cell_type": "code",
   "execution_count": 172,
   "id": "79557400-1dd6-4b32-8727-e30f6aa7d5c0",
   "metadata": {
    "tags": []
   },
   "outputs": [],
   "source": [
    "total_info_df.to_csv('../data/boxoffice_info_24.csv',index = False, encoding = 'utf-8-sig')"
   ]
  },
  {
   "cell_type": "code",
   "execution_count": 155,
   "id": "3098152c-3318-4dd2-92f0-31061536118f",
   "metadata": {
    "tags": []
   },
   "outputs": [],
   "source": [
    "# total_info_df = pd.read_csv('../data/boxoffice_info_15_23.csv')"
   ]
  },
  {
   "cell_type": "code",
   "execution_count": 173,
   "id": "32428d7e-d7a9-46d2-a7c5-2bb35f4f2783",
   "metadata": {
    "tags": []
   },
   "outputs": [
    {
     "name": "stdout",
     "output_type": "stream",
     "text": [
      "<class 'pandas.core.frame.DataFrame'>\n",
      "RangeIndex: 910 entries, 0 to 909\n",
      "Data columns (total 19 columns):\n",
      " #   Column         Non-Null Count  Dtype  \n",
      "---  ------         --------------  -----  \n",
      " 0   rnum           910 non-null    int64  \n",
      " 1   rank           910 non-null    int64  \n",
      " 2   rankInten      910 non-null    int64  \n",
      " 3   rankOldAndNew  910 non-null    object \n",
      " 4   movieCd        910 non-null    int64  \n",
      " 5   movieNm        910 non-null    object \n",
      " 6   openDt         910 non-null    object \n",
      " 7   salesAmt       910 non-null    int64  \n",
      " 8   salesShare     910 non-null    float64\n",
      " 9   salesInten     910 non-null    int64  \n",
      " 10  salesChange    910 non-null    float64\n",
      " 11  salesAcc       910 non-null    int64  \n",
      " 12  audiCnt        910 non-null    int64  \n",
      " 13  audiInten      910 non-null    int64  \n",
      " 14  audiChange     910 non-null    float64\n",
      " 15  audiAcc        910 non-null    int64  \n",
      " 16  scrnCnt        910 non-null    int64  \n",
      " 17  showCnt        910 non-null    int64  \n",
      " 18  current_date   910 non-null    object \n",
      "dtypes: float64(3), int64(12), object(4)\n",
      "memory usage: 135.2+ KB\n"
     ]
    }
   ],
   "source": [
    "df24.info()"
   ]
  },
  {
   "cell_type": "code",
   "execution_count": 174,
   "id": "1d7024e4-ceec-4c2c-94c6-4fa2fb82b2cd",
   "metadata": {
    "tags": []
   },
   "outputs": [],
   "source": [
    "total_info_df['movieCd'] = total_info_df['movieCd'].astype(int)"
   ]
  },
  {
   "cell_type": "code",
   "execution_count": 175,
   "id": "ff7b722c-ea81-41e8-a147-7485f7419a8c",
   "metadata": {
    "tags": []
   },
   "outputs": [],
   "source": [
    "total24 = pd.merge(df24,total_info_df, on= ['movieCd','movieNm'], how = 'left')"
   ]
  },
  {
   "cell_type": "code",
   "execution_count": 176,
   "id": "d6d6f4be-cb07-4724-b503-c41e27b3927e",
   "metadata": {
    "tags": []
   },
   "outputs": [
    {
     "data": {
      "text/html": [
       "<div>\n",
       "<style scoped>\n",
       "    .dataframe tbody tr th:only-of-type {\n",
       "        vertical-align: middle;\n",
       "    }\n",
       "\n",
       "    .dataframe tbody tr th {\n",
       "        vertical-align: top;\n",
       "    }\n",
       "\n",
       "    .dataframe thead th {\n",
       "        text-align: right;\n",
       "    }\n",
       "</style>\n",
       "<table border=\"1\" class=\"dataframe\">\n",
       "  <thead>\n",
       "    <tr style=\"text-align: right;\">\n",
       "      <th></th>\n",
       "      <th>openDt_x</th>\n",
       "      <th>openDt_y</th>\n",
       "    </tr>\n",
       "  </thead>\n",
       "  <tbody>\n",
       "    <tr>\n",
       "      <th>0</th>\n",
       "      <td>2023-12-20</td>\n",
       "      <td>20231220</td>\n",
       "    </tr>\n",
       "    <tr>\n",
       "      <th>1</th>\n",
       "      <td>2023-11-22</td>\n",
       "      <td>20231122</td>\n",
       "    </tr>\n",
       "    <tr>\n",
       "      <th>2</th>\n",
       "      <td>2023-12-22</td>\n",
       "      <td>20231222</td>\n",
       "    </tr>\n",
       "    <tr>\n",
       "      <th>3</th>\n",
       "      <td>2023-12-20</td>\n",
       "      <td>20231220</td>\n",
       "    </tr>\n",
       "    <tr>\n",
       "      <th>4</th>\n",
       "      <td>2023-12-20</td>\n",
       "      <td>20231220</td>\n",
       "    </tr>\n",
       "    <tr>\n",
       "      <th>...</th>\n",
       "      <td>...</td>\n",
       "      <td>...</td>\n",
       "    </tr>\n",
       "    <tr>\n",
       "      <th>905</th>\n",
       "      <td>2024-03-27</td>\n",
       "      <td>20240327</td>\n",
       "    </tr>\n",
       "    <tr>\n",
       "      <th>906</th>\n",
       "      <td>2024-01-31</td>\n",
       "      <td>20240131</td>\n",
       "    </tr>\n",
       "    <tr>\n",
       "      <th>907</th>\n",
       "      <td>2024-04-03</td>\n",
       "      <td>20240403</td>\n",
       "    </tr>\n",
       "    <tr>\n",
       "      <th>908</th>\n",
       "      <td>2024-03-27</td>\n",
       "      <td>20240327</td>\n",
       "    </tr>\n",
       "    <tr>\n",
       "      <th>909</th>\n",
       "      <td>2024-03-01</td>\n",
       "      <td>20240301</td>\n",
       "    </tr>\n",
       "  </tbody>\n",
       "</table>\n",
       "<p>910 rows × 2 columns</p>\n",
       "</div>"
      ],
      "text/plain": [
       "       openDt_x  openDt_y\n",
       "0    2023-12-20  20231220\n",
       "1    2023-11-22  20231122\n",
       "2    2023-12-22  20231222\n",
       "3    2023-12-20  20231220\n",
       "4    2023-12-20  20231220\n",
       "..          ...       ...\n",
       "905  2024-03-27  20240327\n",
       "906  2024-01-31  20240131\n",
       "907  2024-04-03  20240403\n",
       "908  2024-03-27  20240327\n",
       "909  2024-03-01  20240301\n",
       "\n",
       "[910 rows x 2 columns]"
      ]
     },
     "execution_count": 176,
     "metadata": {},
     "output_type": "execute_result"
    }
   ],
   "source": [
    "total24[['openDt_x','openDt_y']]"
   ]
  },
  {
   "cell_type": "code",
   "execution_count": 177,
   "id": "1b08b6ed-f9b2-4b60-b584-49c23d33aa6f",
   "metadata": {
    "tags": []
   },
   "outputs": [],
   "source": [
    "# 날짜 형식으로 변환\n",
    "total24['openDt_y'] = pd.to_datetime(total24['openDt_y'], format='%Y%m%d')\n",
    "total24['openDt_x'].fillna(total24['openDt_y'], inplace=True)\n",
    "total24.drop(columns = 'openDt_y', inplace = True)\n",
    "total24.rename(columns = {'openDt_x' : 'openDt'}, inplace = True)"
   ]
  },
  {
   "cell_type": "code",
   "execution_count": 178,
   "id": "b5dd9d37-edd3-4d10-9d5d-ecaf7ab8a298",
   "metadata": {
    "tags": []
   },
   "outputs": [],
   "source": [
    "total24.to_csv('../data/boxoffice_24_total.csv',index = False, encoding = 'utf-8-sig')"
   ]
  },
  {
   "cell_type": "code",
   "execution_count": 179,
   "id": "5317368e-ee66-44da-9727-f5940a07eeeb",
   "metadata": {
    "tags": []
   },
   "outputs": [
    {
     "data": {
      "text/plain": [
       "0      2024-01-01\n",
       "1      2024-01-01\n",
       "2      2024-01-01\n",
       "3      2024-01-01\n",
       "4      2024-01-01\n",
       "          ...    \n",
       "905    2024-03-31\n",
       "906    2024-03-31\n",
       "907    2024-03-31\n",
       "908    2024-03-31\n",
       "909    2024-03-31\n",
       "Name: current_date, Length: 910, dtype: object"
      ]
     },
     "execution_count": 179,
     "metadata": {},
     "output_type": "execute_result"
    }
   ],
   "source": [
    "total24.current_date"
   ]
  },
  {
   "cell_type": "code",
   "execution_count": 180,
   "id": "8db6fb4e-338e-4a9d-b312-f863c75a581a",
   "metadata": {},
   "outputs": [
    {
     "name": "stderr",
     "output_type": "stream",
     "text": [
      "/var/folders/nz/vk3v33x95bs4kf3ymy0z0my00000gn/T/ipykernel_24082/1278547656.py:1: DtypeWarning: Columns (4) have mixed types. Specify dtype option on import or set low_memory=False.\n",
      "  df = pd.read_csv('../data/boxoffice_15_23_total.csv')\n"
     ]
    }
   ],
   "source": [
    "df = pd.read_csv('../data/boxoffice_15_23_total.csv')\n",
    "df24 = pd.read_csv('../data/boxoffice_24_total.csv')"
   ]
  },
  {
   "cell_type": "code",
   "execution_count": 181,
   "id": "773fbe8a-3ae6-43ca-98ce-ecd4f18cf421",
   "metadata": {
    "tags": []
   },
   "outputs": [
    {
     "name": "stdout",
     "output_type": "stream",
     "text": [
      "<class 'pandas.core.frame.DataFrame'>\n",
      "RangeIndex: 33523 entries, 0 to 33522\n",
      "Data columns (total 30 columns):\n",
      " #   Column           Non-Null Count  Dtype  \n",
      "---  ------           --------------  -----  \n",
      " 0   rnum             33523 non-null  int64  \n",
      " 1   rank             33523 non-null  int64  \n",
      " 2   rankInten        33523 non-null  int64  \n",
      " 3   rankOldAndNew    33523 non-null  object \n",
      " 4   movieCd          33523 non-null  object \n",
      " 5   movieNm          33523 non-null  object \n",
      " 6   openDt           33523 non-null  object \n",
      " 7   salesAmt         33523 non-null  int64  \n",
      " 8   salesShare       33523 non-null  float64\n",
      " 9   salesInten       33523 non-null  int64  \n",
      " 10  salesChange      33523 non-null  float64\n",
      " 11  salesAcc         33523 non-null  int64  \n",
      " 12  audiCnt          33523 non-null  int64  \n",
      " 13  audiInten        33523 non-null  int64  \n",
      " 14  audiChange       33523 non-null  float64\n",
      " 15  audiAcc          33523 non-null  int64  \n",
      " 16  scrnCnt          33523 non-null  int64  \n",
      " 17  showCnt          33523 non-null  int64  \n",
      " 18  current_date     33523 non-null  object \n",
      " 19  showTm           15004 non-null  float64\n",
      " 20  prdtYear         15041 non-null  float64\n",
      " 21  prdtStatNm       15042 non-null  object \n",
      " 22  typeNm           15042 non-null  object \n",
      " 23  nationNm         15042 non-null  object \n",
      " 24  genreNm          15040 non-null  object \n",
      " 25  director         14422 non-null  object \n",
      " 26  actor            13921 non-null  object \n",
      " 27  showTypeGroupNm  15042 non-null  object \n",
      " 28  showTypeNm       15042 non-null  object \n",
      " 29  audits           15001 non-null  object \n",
      "dtypes: float64(5), int64(11), object(14)\n",
      "memory usage: 7.7+ MB\n"
     ]
    }
   ],
   "source": [
    "df.info()"
   ]
  },
  {
   "cell_type": "code",
   "execution_count": 182,
   "id": "2f37234e-d2b6-4664-8cbd-a03c8d5d6377",
   "metadata": {
    "tags": []
   },
   "outputs": [
    {
     "name": "stdout",
     "output_type": "stream",
     "text": [
      "<class 'pandas.core.frame.DataFrame'>\n",
      "RangeIndex: 910 entries, 0 to 909\n",
      "Data columns (total 30 columns):\n",
      " #   Column           Non-Null Count  Dtype  \n",
      "---  ------           --------------  -----  \n",
      " 0   rnum             910 non-null    int64  \n",
      " 1   rank             910 non-null    int64  \n",
      " 2   rankInten        910 non-null    int64  \n",
      " 3   rankOldAndNew    910 non-null    object \n",
      " 4   movieCd          910 non-null    int64  \n",
      " 5   movieNm          910 non-null    object \n",
      " 6   openDt           910 non-null    object \n",
      " 7   salesAmt         910 non-null    int64  \n",
      " 8   salesShare       910 non-null    float64\n",
      " 9   salesInten       910 non-null    int64  \n",
      " 10  salesChange      910 non-null    float64\n",
      " 11  salesAcc         910 non-null    int64  \n",
      " 12  audiCnt          910 non-null    int64  \n",
      " 13  audiInten        910 non-null    int64  \n",
      " 14  audiChange       910 non-null    float64\n",
      " 15  audiAcc          910 non-null    int64  \n",
      " 16  scrnCnt          910 non-null    int64  \n",
      " 17  showCnt          910 non-null    int64  \n",
      " 18  current_date     910 non-null    object \n",
      " 19  showTm           910 non-null    int64  \n",
      " 20  prdtYear         910 non-null    int64  \n",
      " 21  prdtStatNm       910 non-null    object \n",
      " 22  typeNm           910 non-null    object \n",
      " 23  nationNm         910 non-null    object \n",
      " 24  genreNm          910 non-null    object \n",
      " 25  director         860 non-null    object \n",
      " 26  actor            752 non-null    object \n",
      " 27  showTypeGroupNm  910 non-null    object \n",
      " 28  showTypeNm       910 non-null    object \n",
      " 29  audits           910 non-null    object \n",
      "dtypes: float64(3), int64(14), object(13)\n",
      "memory usage: 213.4+ KB\n"
     ]
    }
   ],
   "source": [
    "df24.info()"
   ]
  },
  {
   "cell_type": "code",
   "execution_count": 183,
   "id": "651425f3-b479-4908-a1d1-7ff68e455bbe",
   "metadata": {
    "tags": []
   },
   "outputs": [],
   "source": [
    "total_24 = pd.concat([df, df24], axis = 0)"
   ]
  },
  {
   "cell_type": "code",
   "execution_count": 185,
   "id": "06073896-daa2-45f4-98b1-66aaf9b5da1b",
   "metadata": {
    "tags": []
   },
   "outputs": [
    {
     "name": "stdout",
     "output_type": "stream",
     "text": [
      "<class 'pandas.core.frame.DataFrame'>\n",
      "Int64Index: 34433 entries, 0 to 909\n",
      "Data columns (total 30 columns):\n",
      " #   Column           Non-Null Count  Dtype  \n",
      "---  ------           --------------  -----  \n",
      " 0   rnum             34433 non-null  int64  \n",
      " 1   rank             34433 non-null  int64  \n",
      " 2   rankInten        34433 non-null  int64  \n",
      " 3   rankOldAndNew    34433 non-null  object \n",
      " 4   movieCd          34433 non-null  object \n",
      " 5   movieNm          34433 non-null  object \n",
      " 6   openDt           34433 non-null  object \n",
      " 7   salesAmt         34433 non-null  int64  \n",
      " 8   salesShare       34433 non-null  float64\n",
      " 9   salesInten       34433 non-null  int64  \n",
      " 10  salesChange      34433 non-null  float64\n",
      " 11  salesAcc         34433 non-null  int64  \n",
      " 12  audiCnt          34433 non-null  int64  \n",
      " 13  audiInten        34433 non-null  int64  \n",
      " 14  audiChange       34433 non-null  float64\n",
      " 15  audiAcc          34433 non-null  int64  \n",
      " 16  scrnCnt          34433 non-null  int64  \n",
      " 17  showCnt          34433 non-null  int64  \n",
      " 18  current_date     34433 non-null  object \n",
      " 19  showTm           15914 non-null  float64\n",
      " 20  prdtYear         15951 non-null  float64\n",
      " 21  prdtStatNm       15952 non-null  object \n",
      " 22  typeNm           15952 non-null  object \n",
      " 23  nationNm         15952 non-null  object \n",
      " 24  genreNm          15950 non-null  object \n",
      " 25  director         15282 non-null  object \n",
      " 26  actor            14673 non-null  object \n",
      " 27  showTypeGroupNm  15952 non-null  object \n",
      " 28  showTypeNm       15952 non-null  object \n",
      " 29  audits           15911 non-null  object \n",
      "dtypes: float64(5), int64(11), object(14)\n",
      "memory usage: 8.1+ MB\n"
     ]
    }
   ],
   "source": [
    "total_24.info()"
   ]
  },
  {
   "cell_type": "code",
   "execution_count": 186,
   "id": "3c10354e-cc46-4ef8-bab3-3fc159f88b0a",
   "metadata": {
    "tags": []
   },
   "outputs": [],
   "source": [
    "total_24.to_csv('../data/boxoffice_15_24_total.csv',index = False, encoding = 'utf-8-sig')"
   ]
  }
 ],
 "metadata": {
  "kernelspec": {
   "display_name": "Python 3 (ipykernel)",
   "language": "python",
   "name": "python3"
  },
  "language_info": {
   "codemirror_mode": {
    "name": "ipython",
    "version": 3
   },
   "file_extension": ".py",
   "mimetype": "text/x-python",
   "name": "python",
   "nbconvert_exporter": "python",
   "pygments_lexer": "ipython3",
   "version": "3.11.4"
  }
 },
 "nbformat": 4,
 "nbformat_minor": 5
}
